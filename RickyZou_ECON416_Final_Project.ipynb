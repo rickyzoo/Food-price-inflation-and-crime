{
 "cells": [
  {
   "cell_type": "markdown",
   "id": "43b09d5d",
   "metadata": {},
   "source": [
    "# ECON416 Final Project (@ SUNY Binghamton)\n",
    "**Food price inflation and crime in food secure vs. food insecure states**\n",
    "\n",
    "written by: Ricky Zou (class of 2023)"
   ]
  },
  {
   "cell_type": "markdown",
   "id": "729c6b7e",
   "metadata": {},
   "source": [
    "## Introduction\n",
    "Humans have an inherent and instinctive desire to satisfy specific needs in order to survive and properly function. Following Maslow’s hierarchy of needs, the ability to access food is one of those fundamental needs that is essential for the well-being of the individual. In our modern society, the food we put in our bodies is, for the most part, accessed and purchased from third party vendors such as grocery stores, deli markets, farmer’s markets, and restaurants. The system in which people can feed themselves in developed countries is directly associated with their financial situation rather than the ability to cultivate and harvest their own food. Another aspect of living that is directly related to an individual’s finances is where they live. Likewise, where an individual resides also directly affects the way they can feed themselves. These intertwining dynamics of location, finances, and the ability to feed oneself bring life to the concept of “food security and insecurity”. The United States Department of Agriculture (USDA) defines food insecurity as the lack of consistent access to enough food for every person in a household to live an active, healthy life (paraphrased from the USDA website). This definition entails access to both edible food in general, and the nutritional content and safety of such edible products.\n",
    "\n",
    "As a young male born and raised into a middle-middle class household, I don’t remember ever having to worry about intaking sufficient food and the quality of the food I put in my body. As I’ve gotten older and have seen what reality is like for millions of Americans living through poverty, I’ve really been able to understand my relative privileges and am fortunate enough to be able to comfortably sit here and commentate on these real issues rather than enduring them myself. As someone who wants to be a part of and contribute to a safe society striving toward improving the living standards for the masses, examining food prices and its implications on crime peaks my interest as I believe meaningful findings in the correlations and causations of quality access to food and every other aspect of society, such as criminal activity, is vital to policymakers and those in power when they make critical decisions that impact millions.\n",
    "\n",
    "It is common sense that higher food prices lead to more stress for those who are struggling financially, which will lead to an uptick in criminal activity. However, as with everything, there exists nuance with how any two things are correlated. In this project, I try to answer questions such as: \n",
    "- When food prices rise, which types of food/food baskets correlate the most with criminal activity?\n",
    "- Is there a difference in how rising food prices affect areas with high levels of food insecurity vs. lower levels of food insecurity?\n",
    "- And, how well can we predict criminal activity movement solely using food price inflation data?\n",
    "\n",
    "In order to tackle these questions, I narrowed my focus down to four states, two with relatively high levels of food insecurity and two with relatively low levels of food insecurity. I gathered criminal activity data from these four states along with consumer price index (CPI) data of food prices of various food baskets in the United States. I found the correlation statistics between food price inflation of the various food baskets and whether criminal activity increased or decreased in each state. Additionally, I chose to utilize the Random Forest Classification model in order to examine how well we can predict the movement of criminal activity using food price inflation as input variables. While the results I got are sufficient enough for interpretation, in the end, there clearly exist many limitations to my analysis and the data I chose to use. \n"
   ]
  },
  {
   "cell_type": "markdown",
   "id": "56acec1d",
   "metadata": {},
   "source": [
    "## Literature Review\n",
    "I found a research paper written by Emily Blankenberger associated with Illinois State University titled [Feeding Peace: An Investigation of the Relationship between Food Insecurity and Violence.](https://ir.library.illinoisstate.edu/cgi/viewcontent.cgi?article=1019&context=scced) Similar to my analysis, Emily explicitly states that “overall, it was found there was no statistically significant relationship between food insecurity and violence\" (Blankenberger 2016), however, there is still enough work to interpret and build upon. Using an Ordinary least squares (OLS) regression model, Emily attempts to find any statistical significance between food insecurity and violence using a bevy of different input variables correlated to these matters. She used data from 160 different countries and ran into issues surrounding holding other variables constant in her analysis. It was found, however, that there exists a positive relationship between aid variables, types of financial and geopolitical aid a country receives from other countries, and food insecurity variables. In the end, Emily finds that there is no statistical significance between food deficiency and violence, leading her to believe that there are other variables that play a much bigger role in the movement of violence.\n",
    "\n",
    "My analysis is different because I am focusing on just the United States rather than numerous different countries, and I am examining different food baskets along with two types of crime: violent AND property crime.  \n"
   ]
  },
  {
   "cell_type": "markdown",
   "id": "35193df0",
   "metadata": {},
   "source": [
    "## Approach/Formatting, and Hypotheses\n",
    "#### Approach/Formatting\n",
    "- I initially took food expenditure data and robbery data from **OurWorldInData** to visualize any potential relationships between how much money is spent on food and robbery offenses. This is meant to set the stage of the topic for the specific analysis I went into.\n",
    "- I then utilized food insecurity data I found from [SocialPolicyLab.org](https://www.socialpolicylab.org/post/grow-your-blog-community), a data visualization research lab intended to produce work that assists policymakers, academics, and journalists in their lines of work. From the gathered data, I was able to pinpoint 2 states with relatively high levels of food insecurity and 2 states with relatively low levels of food insecurity.\n",
    "- I then used food CPI data from the FRED to calculate food price inflation. I performed analysis on data dating from 1989 - 2020, as these were the years in which the crime data and food data intersect. \n",
    "- I found data on violent and property criminal offenses per 100,000 for the four states I chose to look into and aggregated accordingly. My target variable in my Random Forest Classification trials were whether or not crime increased or decreased for each type of crime in each state. I also used this information to calculate correlation statistics between the different food baskets and crime movement in each state.\n",
    "\n",
    "A closer look at the results and analysis is embedded along with the code below\n",
    "\n",
    "**Note:** I've commented out parts of the code that return the 'head' of a dataframe to reduce clutter. The lines of code using the 'head' method that are NOT commented out are meant to be, as they are beneficial to the reader.\n",
    "\n",
    "#### Hypotheses\n",
    "- Meat and protein related food products correlate the most with the movement of crime.\n",
    "- We can better predict the movement of property crime using food price inflation compared to predicting movement in violent crime because I believe food insecurity leads to a higher inclination to steal from others rather than immediately instantiating violence.\n",
    "- Stronger correlations will exist between food price inflation and crime in the states with higher levels of food insecurity compared to the states with lower levels of food insecurity."
   ]
  },
  {
   "cell_type": "markdown",
   "id": "cfb5ab63",
   "metadata": {},
   "source": [
    "---"
   ]
  },
  {
   "cell_type": "markdown",
   "id": "e48a4f29",
   "metadata": {},
   "source": [
    "## Loading in Necessary Packages & Formatting Output"
   ]
  },
  {
   "cell_type": "code",
   "execution_count": 1,
   "id": "9214ec7b",
   "metadata": {},
   "outputs": [],
   "source": [
    "import pandas as pd\n",
    "import numpy as np\n",
    "import matplotlib.pyplot as plt\n",
    "%matplotlib inline\n",
    "\n",
    "import seaborn as sns\n",
    "\n",
    "from sklearn.ensemble import RandomForestClassifier\n",
    "from sklearn.model_selection import train_test_split\n",
    "from sklearn.metrics import accuracy_score, classification_report, confusion_matrix"
   ]
  },
  {
   "cell_type": "code",
   "execution_count": 2,
   "id": "1aa42c1f",
   "metadata": {},
   "outputs": [],
   "source": [
    "pd.set_option('display.float_format', '{:,.2f}'.format)\n",
    "pd.set_option('display.precision', 2)"
   ]
  },
  {
   "cell_type": "markdown",
   "id": "7211697a",
   "metadata": {},
   "source": [
    "---"
   ]
  },
  {
   "cell_type": "markdown",
   "id": "6c8cae87",
   "metadata": {},
   "source": [
    "## Initial Exploratory Analysis of Food Expenditure and Crime in the US"
   ]
  },
  {
   "cell_type": "code",
   "execution_count": 3,
   "id": "13a4c620",
   "metadata": {},
   "outputs": [],
   "source": [
    "food_exp = pd.read_csv('https://raw.githubusercontent.com/rickyzoo/Food_price_inflation_and_crime/main/food-expenditure-per-person.csv')\n",
    "food_exp['Total food expenditure'] = food_exp['Food expenditure away from home (constant 1988 prices)'] + food_exp['Food expenditure at home (constant 1988 prices)']\n",
    "    \n",
    "food_exp.drop(food_exp.columns[[0,1]], axis=1, inplace=True)\n",
    "food_exp.set_index('Year', inplace=True)\n",
    "food_exp = food_exp.loc[1985:]\n",
    "\n",
    "robbery = pd.read_csv('https://raw.githubusercontent.com/rickyzoo/Food_price_inflation_and_crime/main/robbery_1985_2014.csv') \n",
    "robbery = robbery.T\n",
    "robbery = robbery.rename(columns={0:'Rate of Robbery Offenses per 100,000'})\n",
    "robbery = robbery[1:]\n",
    "robbery.index.name = 'Year'"
   ]
  },
  {
   "cell_type": "code",
   "execution_count": 4,
   "id": "073d84f8",
   "metadata": {},
   "outputs": [],
   "source": [
    "food_and_crime = pd.concat([food_exp.reset_index(), robbery.reset_index()], axis=1)\n",
    "food_and_crime.drop(food_and_crime.columns[[4]], axis=1, inplace=True)\n",
    "\n",
    "food_and_crime['Year'] = list(range(1985, 2015))\n",
    "food_and_crime.set_index('Year', inplace=True)"
   ]
  },
  {
   "cell_type": "code",
   "execution_count": 5,
   "id": "484a2875",
   "metadata": {},
   "outputs": [
    {
     "data": {
      "image/png": "[encoded data removed]",
      "text/plain": [
       "<Figure size 432x288 with 1 Axes>"
      ]
     },
     "metadata": {
      "needs_background": "light"
     },
     "output_type": "display_data"
    }
   ],
   "source": [
    "fig, ax = plt.subplots()\n",
    "ax.plot(food_and_crime, label=food_and_crime.columns)\n",
    "ax.legend(bbox_to_anchor=(1.1, 1.05))\n",
    "\n",
    "plt.show()"
   ]
  },
  {
   "cell_type": "markdown",
   "id": "89f322df",
   "metadata": {},
   "source": [
    "The correlation between Total food expenditure and Rate of robbery offenses per 100,000 people is not super clear, so let's dig into some more specific data and examine any possible relationships between food prices and crime."
   ]
  },
  {
   "cell_type": "markdown",
   "id": "6ca543f9",
   "metadata": {},
   "source": [
    "---"
   ]
  },
  {
   "cell_type": "markdown",
   "id": "66947480",
   "metadata": {},
   "source": [
    "## Working with US Food Insecurity Data from 2018\n",
    "Here, we are trying to locate the states with the highest and lowest levels of food insecurity so we can focus on crime data from those states to took a closer look at the potential implications of food price inflation and crime."
   ]
  },
  {
   "cell_type": "code",
   "execution_count": 6,
   "id": "dbb939f5",
   "metadata": {},
   "outputs": [],
   "source": [
    "food_ins = pd.read_csv('https://raw.githubusercontent.com/rickyzoo/Food_price_inflation_and_crime/main/Food_desert_2018.csv')\n",
    "food_ins.sort_values(by='Food Insecurity Rate', ascending=False, inplace=True)"
   ]
  },
  {
   "cell_type": "code",
   "execution_count": 7,
   "id": "12fae2f1",
   "metadata": {},
   "outputs": [
    {
     "data": {
      "text/html": [
       "<div>\n",
       "<style scoped>\n",
       "    .dataframe tbody tr th:only-of-type {\n",
       "        vertical-align: middle;\n",
       "    }\n",
       "\n",
       "    .dataframe tbody tr th {\n",
       "        vertical-align: top;\n",
       "    }\n",
       "\n",
       "    .dataframe thead th {\n",
       "        text-align: right;\n",
       "    }\n",
       "</style>\n",
       "<table border=\"1\" class=\"dataframe\">\n",
       "  <thead>\n",
       "    <tr style=\"text-align: right;\">\n",
       "      <th></th>\n",
       "      <th>FIPS</th>\n",
       "      <th>County, State</th>\n",
       "      <th>Food Insecurity Rate</th>\n",
       "      <th>2018 Food Insecurity Rate</th>\n",
       "      <th># of Food Insecure Persons in 2018</th>\n",
       "      <th>Low Threshold in state</th>\n",
       "      <th>Low Threshold Type</th>\n",
       "      <th>High Threshold in state</th>\n",
       "      <th>High Threshold Type</th>\n",
       "      <th>% FI ≤ Low Threshold</th>\n",
       "      <th>% FI Btwn Thresholds</th>\n",
       "      <th>% FI &amp;gt; High Threshold</th>\n",
       "      <th>2018 Child food insecurity rate</th>\n",
       "      <th># of Food Insecure Children in 2018</th>\n",
       "      <th>% food insecure children in HH w/ HH incomes below 185 FPL in 2018</th>\n",
       "      <th>% food insecure children in HH w/ HH incomes above 185 FPL in 2018</th>\n",
       "      <th>2018 Cost Per Meal</th>\n",
       "      <th>2018 Weighted Annual Food Budget Shortfall</th>\n",
       "    </tr>\n",
       "  </thead>\n",
       "  <tbody>\n",
       "    <tr>\n",
       "      <th>1432</th>\n",
       "      <td>28063</td>\n",
       "      <td>Jefferson County, Mississippi</td>\n",
       "      <td>30.40</td>\n",
       "      <td>0.30</td>\n",
       "      <td>2230</td>\n",
       "      <td>130%</td>\n",
       "      <td>SNAP</td>\n",
       "      <td>185%</td>\n",
       "      <td>Other Nutrition Program</td>\n",
       "      <td>88.30%</td>\n",
       "      <td>11.70%</td>\n",
       "      <td>0.00%</td>\n",
       "      <td>40.00%</td>\n",
       "      <td>680</td>\n",
       "      <td>63%</td>\n",
       "      <td>37%</td>\n",
       "      <td>$3.02</td>\n",
       "      <td>1141000</td>\n",
       "    </tr>\n",
       "    <tr>\n",
       "      <th>1428</th>\n",
       "      <td>28055</td>\n",
       "      <td>Issaquena County, Mississippi</td>\n",
       "      <td>28.90</td>\n",
       "      <td>0.29</td>\n",
       "      <td>380</td>\n",
       "      <td>130%</td>\n",
       "      <td>SNAP</td>\n",
       "      <td>185%</td>\n",
       "      <td>Other Nutrition Program</td>\n",
       "      <td>70.60%</td>\n",
       "      <td>29.40%</td>\n",
       "      <td>0.00%</td>\n",
       "      <td>41.10%</td>\n",
       "      <td>80</td>\n",
       "      <td>90%</td>\n",
       "      <td>10%</td>\n",
       "      <td>$3.11</td>\n",
       "      <td>200000</td>\n",
       "    </tr>\n",
       "    <tr>\n",
       "      <th>1130</th>\n",
       "      <td>22035</td>\n",
       "      <td>East Carroll Parish, Louisiana</td>\n",
       "      <td>28.20</td>\n",
       "      <td>0.28</td>\n",
       "      <td>2040</td>\n",
       "      <td>130%</td>\n",
       "      <td>SNAP</td>\n",
       "      <td>185%</td>\n",
       "      <td>Other Nutrition Program</td>\n",
       "      <td>59.60%</td>\n",
       "      <td>40.40%</td>\n",
       "      <td>0.00%</td>\n",
       "      <td>43.70%</td>\n",
       "      <td>600</td>\n",
       "      <td>68%</td>\n",
       "      <td>33%</td>\n",
       "      <td>$3.06</td>\n",
       "      <td>1056000</td>\n",
       "    </tr>\n",
       "    <tr>\n",
       "      <th>81</th>\n",
       "      <td>2158</td>\n",
       "      <td>Kusilvak Census Area, Alaska</td>\n",
       "      <td>28.00</td>\n",
       "      <td>0.28</td>\n",
       "      <td>2290</td>\n",
       "      <td>130%</td>\n",
       "      <td>SNAP</td>\n",
       "      <td>185%</td>\n",
       "      <td>Other Nutrition Program</td>\n",
       "      <td>99.60%</td>\n",
       "      <td>0.40%</td>\n",
       "      <td>0.00%</td>\n",
       "      <td>43.20%</td>\n",
       "      <td>1,440</td>\n",
       "      <td>100%</td>\n",
       "      <td>0%</td>\n",
       "      <td>$4.35</td>\n",
       "      <td>1688000</td>\n",
       "    </tr>\n",
       "    <tr>\n",
       "      <th>1426</th>\n",
       "      <td>28051</td>\n",
       "      <td>Holmes County, Mississippi</td>\n",
       "      <td>27.80</td>\n",
       "      <td>0.28</td>\n",
       "      <td>5030</td>\n",
       "      <td>130%</td>\n",
       "      <td>SNAP</td>\n",
       "      <td>185%</td>\n",
       "      <td>Other Nutrition Program</td>\n",
       "      <td>90.20%</td>\n",
       "      <td>9.80%</td>\n",
       "      <td>0.00%</td>\n",
       "      <td>34.40%</td>\n",
       "      <td>1,630</td>\n",
       "      <td>62%</td>\n",
       "      <td>38%</td>\n",
       "      <td>$3.25</td>\n",
       "      <td>2769000</td>\n",
       "    </tr>\n",
       "    <tr>\n",
       "      <th>1411</th>\n",
       "      <td>28021</td>\n",
       "      <td>Claiborne County, Mississippi</td>\n",
       "      <td>27.10</td>\n",
       "      <td>0.27</td>\n",
       "      <td>2470</td>\n",
       "      <td>130%</td>\n",
       "      <td>SNAP</td>\n",
       "      <td>185%</td>\n",
       "      <td>Other Nutrition Program</td>\n",
       "      <td>86.10%</td>\n",
       "      <td>13.90%</td>\n",
       "      <td>0.00%</td>\n",
       "      <td>37.00%</td>\n",
       "      <td>740</td>\n",
       "      <td>53%</td>\n",
       "      <td>47%</td>\n",
       "      <td>$3.15</td>\n",
       "      <td>1318000</td>\n",
       "    </tr>\n",
       "    <tr>\n",
       "      <th>52</th>\n",
       "      <td>1105</td>\n",
       "      <td>Perry County, Alabama</td>\n",
       "      <td>27.00</td>\n",
       "      <td>0.27</td>\n",
       "      <td>2560</td>\n",
       "      <td>130%</td>\n",
       "      <td>SNAP</td>\n",
       "      <td>185%</td>\n",
       "      <td>Other Nutrition Program</td>\n",
       "      <td>86.70%</td>\n",
       "      <td>1.00%</td>\n",
       "      <td>12.30%</td>\n",
       "      <td>37.70%</td>\n",
       "      <td>780</td>\n",
       "      <td>67%</td>\n",
       "      <td>33%</td>\n",
       "      <td>$3.07</td>\n",
       "      <td>1331000</td>\n",
       "    </tr>\n",
       "    <tr>\n",
       "      <th>2412</th>\n",
       "      <td>46102</td>\n",
       "      <td>Oglala Lakota County, South Dakota</td>\n",
       "      <td>26.90</td>\n",
       "      <td>0.27</td>\n",
       "      <td>3860</td>\n",
       "      <td>130%</td>\n",
       "      <td>SNAP</td>\n",
       "      <td>185%</td>\n",
       "      <td>Other Nutrition Program</td>\n",
       "      <td>83.10%</td>\n",
       "      <td>3.00%</td>\n",
       "      <td>14.00%</td>\n",
       "      <td>38.10%</td>\n",
       "      <td>2,030</td>\n",
       "      <td>99%</td>\n",
       "      <td>1%</td>\n",
       "      <td>$3.14</td>\n",
       "      <td>2049000</td>\n",
       "    </tr>\n",
       "    <tr>\n",
       "      <th>1427</th>\n",
       "      <td>28053</td>\n",
       "      <td>Humphreys County, Mississippi</td>\n",
       "      <td>26.40</td>\n",
       "      <td>0.26</td>\n",
       "      <td>2250</td>\n",
       "      <td>130%</td>\n",
       "      <td>SNAP</td>\n",
       "      <td>185%</td>\n",
       "      <td>Other Nutrition Program</td>\n",
       "      <td>88.90%</td>\n",
       "      <td>11.10%</td>\n",
       "      <td>0.00%</td>\n",
       "      <td>35.10%</td>\n",
       "      <td>800</td>\n",
       "      <td>61%</td>\n",
       "      <td>39%</td>\n",
       "      <td>$3.03</td>\n",
       "      <td>1155000</td>\n",
       "    </tr>\n",
       "    <tr>\n",
       "      <th>31</th>\n",
       "      <td>1063</td>\n",
       "      <td>Greene County, Alabama</td>\n",
       "      <td>26.10</td>\n",
       "      <td>0.26</td>\n",
       "      <td>2200</td>\n",
       "      <td>130%</td>\n",
       "      <td>SNAP</td>\n",
       "      <td>185%</td>\n",
       "      <td>Other Nutrition Program</td>\n",
       "      <td>91.50%</td>\n",
       "      <td>8.50%</td>\n",
       "      <td>0.00%</td>\n",
       "      <td>38.60%</td>\n",
       "      <td>720</td>\n",
       "      <td>70%</td>\n",
       "      <td>30%</td>\n",
       "      <td>$3.34</td>\n",
       "      <td>1243000</td>\n",
       "    </tr>\n",
       "  </tbody>\n",
       "</table>\n",
       "</div>"
      ],
      "text/plain": [
       "       FIPS                       County, State  Food Insecurity Rate  \\\n",
       "1432  28063       Jefferson County, Mississippi                 30.40   \n",
       "1428  28055       Issaquena County, Mississippi                 28.90   \n",
       "1130  22035      East Carroll Parish, Louisiana                 28.20   \n",
       "81     2158        Kusilvak Census Area, Alaska                 28.00   \n",
       "1426  28051          Holmes County, Mississippi                 27.80   \n",
       "1411  28021       Claiborne County, Mississippi                 27.10   \n",
       "52     1105               Perry County, Alabama                 27.00   \n",
       "2412  46102  Oglala Lakota County, South Dakota                 26.90   \n",
       "1427  28053       Humphreys County, Mississippi                 26.40   \n",
       "31     1063              Greene County, Alabama                 26.10   \n",
       "\n",
       "      2018 Food Insecurity Rate  # of Food Insecure Persons in 2018  \\\n",
       "1432                       0.30                                2230   \n",
       "1428                       0.29                                 380   \n",
       "1130                       0.28                                2040   \n",
       "81                         0.28                                2290   \n",
       "1426                       0.28                                5030   \n",
       "1411                       0.27                                2470   \n",
       "52                         0.27                                2560   \n",
       "2412                       0.27                                3860   \n",
       "1427                       0.26                                2250   \n",
       "31                         0.26                                2200   \n",
       "\n",
       "     Low Threshold in state Low Threshold Type High Threshold in state  \\\n",
       "1432                   130%               SNAP                    185%   \n",
       "1428                   130%               SNAP                    185%   \n",
       "1130                   130%               SNAP                    185%   \n",
       "81                     130%               SNAP                    185%   \n",
       "1426                   130%               SNAP                    185%   \n",
       "1411                   130%               SNAP                    185%   \n",
       "52                     130%               SNAP                    185%   \n",
       "2412                   130%               SNAP                    185%   \n",
       "1427                   130%               SNAP                    185%   \n",
       "31                     130%               SNAP                    185%   \n",
       "\n",
       "          High Threshold Type % FI ≤ Low Threshold % FI Btwn Thresholds  \\\n",
       "1432  Other Nutrition Program               88.30%               11.70%   \n",
       "1428  Other Nutrition Program               70.60%               29.40%   \n",
       "1130  Other Nutrition Program               59.60%               40.40%   \n",
       "81    Other Nutrition Program               99.60%                0.40%   \n",
       "1426  Other Nutrition Program               90.20%                9.80%   \n",
       "1411  Other Nutrition Program               86.10%               13.90%   \n",
       "52    Other Nutrition Program               86.70%                1.00%   \n",
       "2412  Other Nutrition Program               83.10%                3.00%   \n",
       "1427  Other Nutrition Program               88.90%               11.10%   \n",
       "31    Other Nutrition Program               91.50%                8.50%   \n",
       "\n",
       "     % FI &gt; High Threshold 2018 Child food insecurity rate  \\\n",
       "1432                    0.00%                          40.00%   \n",
       "1428                    0.00%                          41.10%   \n",
       "1130                    0.00%                          43.70%   \n",
       "81                      0.00%                          43.20%   \n",
       "1426                    0.00%                          34.40%   \n",
       "1411                    0.00%                          37.00%   \n",
       "52                     12.30%                          37.70%   \n",
       "2412                   14.00%                          38.10%   \n",
       "1427                    0.00%                          35.10%   \n",
       "31                      0.00%                          38.60%   \n",
       "\n",
       "     # of Food Insecure Children in 2018  \\\n",
       "1432                                 680   \n",
       "1428                                  80   \n",
       "1130                                 600   \n",
       "81                                 1,440   \n",
       "1426                               1,630   \n",
       "1411                                 740   \n",
       "52                                   780   \n",
       "2412                               2,030   \n",
       "1427                                 800   \n",
       "31                                   720   \n",
       "\n",
       "     % food insecure children in HH w/ HH incomes below 185 FPL in 2018  \\\n",
       "1432                                                63%                   \n",
       "1428                                                90%                   \n",
       "1130                                                68%                   \n",
       "81                                                 100%                   \n",
       "1426                                                62%                   \n",
       "1411                                                53%                   \n",
       "52                                                  67%                   \n",
       "2412                                                99%                   \n",
       "1427                                                61%                   \n",
       "31                                                  70%                   \n",
       "\n",
       "     % food insecure children in HH w/ HH incomes above 185 FPL in 2018  \\\n",
       "1432                                                37%                   \n",
       "1428                                                10%                   \n",
       "1130                                                33%                   \n",
       "81                                                   0%                   \n",
       "1426                                                38%                   \n",
       "1411                                                47%                   \n",
       "52                                                  33%                   \n",
       "2412                                                 1%                   \n",
       "1427                                                39%                   \n",
       "31                                                  30%                   \n",
       "\n",
       "     2018 Cost Per Meal  2018 Weighted Annual Food Budget Shortfall  \n",
       "1432             $3.02                                      1141000  \n",
       "1428             $3.11                                       200000  \n",
       "1130             $3.06                                      1056000  \n",
       "81               $4.35                                      1688000  \n",
       "1426             $3.25                                      2769000  \n",
       "1411             $3.15                                      1318000  \n",
       "52               $3.07                                      1331000  \n",
       "2412             $3.14                                      2049000  \n",
       "1427             $3.03                                      1155000  \n",
       "31               $3.34                                      1243000  "
      ]
     },
     "execution_count": 7,
     "metadata": {},
     "output_type": "execute_result"
    }
   ],
   "source": [
    "food_ins.head(10)"
   ]
  },
  {
   "cell_type": "code",
   "execution_count": 8,
   "id": "da258ee8",
   "metadata": {},
   "outputs": [
    {
     "data": {
      "text/html": [
       "<div>\n",
       "<style scoped>\n",
       "    .dataframe tbody tr th:only-of-type {\n",
       "        vertical-align: middle;\n",
       "    }\n",
       "\n",
       "    .dataframe tbody tr th {\n",
       "        vertical-align: top;\n",
       "    }\n",
       "\n",
       "    .dataframe thead th {\n",
       "        text-align: right;\n",
       "    }\n",
       "</style>\n",
       "<table border=\"1\" class=\"dataframe\">\n",
       "  <thead>\n",
       "    <tr style=\"text-align: right;\">\n",
       "      <th></th>\n",
       "      <th>FIPS</th>\n",
       "      <th>County, State</th>\n",
       "      <th>Food Insecurity Rate</th>\n",
       "      <th>2018 Food Insecurity Rate</th>\n",
       "      <th># of Food Insecure Persons in 2018</th>\n",
       "      <th>Low Threshold in state</th>\n",
       "      <th>Low Threshold Type</th>\n",
       "      <th>High Threshold in state</th>\n",
       "      <th>High Threshold Type</th>\n",
       "      <th>% FI ≤ Low Threshold</th>\n",
       "      <th>% FI Btwn Thresholds</th>\n",
       "      <th>% FI &amp;gt; High Threshold</th>\n",
       "      <th>2018 Child food insecurity rate</th>\n",
       "      <th># of Food Insecure Children in 2018</th>\n",
       "      <th>% food insecure children in HH w/ HH incomes below 185 FPL in 2018</th>\n",
       "      <th>% food insecure children in HH w/ HH incomes above 185 FPL in 2018</th>\n",
       "      <th>2018 Cost Per Meal</th>\n",
       "      <th>2018 Weighted Annual Food Budget Shortfall</th>\n",
       "    </tr>\n",
       "  </thead>\n",
       "  <tbody>\n",
       "    <tr>\n",
       "      <th>2005</th>\n",
       "      <td>38031</td>\n",
       "      <td>Foster County, North Dakota</td>\n",
       "      <td>4.60</td>\n",
       "      <td>0.05</td>\n",
       "      <td>150</td>\n",
       "      <td>200%</td>\n",
       "      <td>SNAP, Other Nutrition Programs</td>\n",
       "      <td>200%</td>\n",
       "      <td>SNAP, Other Nutrition Programs</td>\n",
       "      <td>81.90%</td>\n",
       "      <td>NaN</td>\n",
       "      <td>18.10%</td>\n",
       "      <td>9.10%</td>\n",
       "      <td>70</td>\n",
       "      <td>92%</td>\n",
       "      <td>8%</td>\n",
       "      <td>$3.23</td>\n",
       "      <td>82000</td>\n",
       "    </tr>\n",
       "    <tr>\n",
       "      <th>2925</th>\n",
       "      <td>51610</td>\n",
       "      <td>Falls Church city, Virginia</td>\n",
       "      <td>4.50</td>\n",
       "      <td>0.05</td>\n",
       "      <td>630</td>\n",
       "      <td>130%</td>\n",
       "      <td>SNAP</td>\n",
       "      <td>185%</td>\n",
       "      <td>Other Nutrition Program</td>\n",
       "      <td>18.90%</td>\n",
       "      <td>8.10%</td>\n",
       "      <td>73.10%</td>\n",
       "      <td>2.40%</td>\n",
       "      <td>90</td>\n",
       "      <td>39%</td>\n",
       "      <td>61%</td>\n",
       "      <td>$3.92</td>\n",
       "      <td>418000</td>\n",
       "    </tr>\n",
       "    <tr>\n",
       "      <th>1995</th>\n",
       "      <td>38011</td>\n",
       "      <td>Bowman County, North Dakota</td>\n",
       "      <td>4.40</td>\n",
       "      <td>0.04</td>\n",
       "      <td>140</td>\n",
       "      <td>200%</td>\n",
       "      <td>SNAP, Other Nutrition Programs</td>\n",
       "      <td>200%</td>\n",
       "      <td>SNAP, Other Nutrition Programs</td>\n",
       "      <td>55.50%</td>\n",
       "      <td>NaN</td>\n",
       "      <td>44.50%</td>\n",
       "      <td>6.20%</td>\n",
       "      <td>50</td>\n",
       "      <td>29%</td>\n",
       "      <td>71%</td>\n",
       "      <td>$3.40</td>\n",
       "      <td>81000</td>\n",
       "    </tr>\n",
       "    <tr>\n",
       "      <th>2035</th>\n",
       "      <td>38091</td>\n",
       "      <td>Steele County, North Dakota</td>\n",
       "      <td>4.30</td>\n",
       "      <td>0.04</td>\n",
       "      <td>80</td>\n",
       "      <td>200%</td>\n",
       "      <td>SNAP, Other Nutrition Programs</td>\n",
       "      <td>200%</td>\n",
       "      <td>SNAP, Other Nutrition Programs</td>\n",
       "      <td>61.00%</td>\n",
       "      <td>NaN</td>\n",
       "      <td>39.00%</td>\n",
       "      <td>9.70%</td>\n",
       "      <td>40</td>\n",
       "      <td>37%</td>\n",
       "      <td>64%</td>\n",
       "      <td>$3.26</td>\n",
       "      <td>44000</td>\n",
       "    </tr>\n",
       "    <tr>\n",
       "      <th>2027</th>\n",
       "      <td>38075</td>\n",
       "      <td>Renville County, North Dakota</td>\n",
       "      <td>4.30</td>\n",
       "      <td>0.04</td>\n",
       "      <td>110</td>\n",
       "      <td>200%</td>\n",
       "      <td>SNAP, Other Nutrition Programs</td>\n",
       "      <td>200%</td>\n",
       "      <td>SNAP, Other Nutrition Programs</td>\n",
       "      <td>80.30%</td>\n",
       "      <td>NaN</td>\n",
       "      <td>19.70%</td>\n",
       "      <td>7.80%</td>\n",
       "      <td>50</td>\n",
       "      <td>73%</td>\n",
       "      <td>27%</td>\n",
       "      <td>$3.28</td>\n",
       "      <td>61000</td>\n",
       "    </tr>\n",
       "    <tr>\n",
       "      <th>1323</th>\n",
       "      <td>27019</td>\n",
       "      <td>Carver County, Minnesota</td>\n",
       "      <td>4.30</td>\n",
       "      <td>0.04</td>\n",
       "      <td>4330</td>\n",
       "      <td>165%</td>\n",
       "      <td>SNAP</td>\n",
       "      <td>185%</td>\n",
       "      <td>Other Nutrition Program</td>\n",
       "      <td>40.10%</td>\n",
       "      <td>4.90%</td>\n",
       "      <td>55.00%</td>\n",
       "      <td>7.00%</td>\n",
       "      <td>1,910</td>\n",
       "      <td>45%</td>\n",
       "      <td>56%</td>\n",
       "      <td>$3.83</td>\n",
       "      <td>2804000</td>\n",
       "    </tr>\n",
       "    <tr>\n",
       "      <th>2000</th>\n",
       "      <td>38021</td>\n",
       "      <td>Dickey County, North Dakota</td>\n",
       "      <td>4.10</td>\n",
       "      <td>0.04</td>\n",
       "      <td>200</td>\n",
       "      <td>200%</td>\n",
       "      <td>SNAP, Other Nutrition Programs</td>\n",
       "      <td>200%</td>\n",
       "      <td>SNAP, Other Nutrition Programs</td>\n",
       "      <td>82.60%</td>\n",
       "      <td>NaN</td>\n",
       "      <td>17.40%</td>\n",
       "      <td>6.20%</td>\n",
       "      <td>70</td>\n",
       "      <td>61%</td>\n",
       "      <td>39%</td>\n",
       "      <td>$3.13</td>\n",
       "      <td>106000</td>\n",
       "    </tr>\n",
       "    <tr>\n",
       "      <th>2030</th>\n",
       "      <td>38081</td>\n",
       "      <td>Sargent County, North Dakota</td>\n",
       "      <td>4.10</td>\n",
       "      <td>0.04</td>\n",
       "      <td>160</td>\n",
       "      <td>200%</td>\n",
       "      <td>SNAP, Other Nutrition Programs</td>\n",
       "      <td>200%</td>\n",
       "      <td>SNAP, Other Nutrition Programs</td>\n",
       "      <td>68.60%</td>\n",
       "      <td>NaN</td>\n",
       "      <td>31.40%</td>\n",
       "      <td>7.20%</td>\n",
       "      <td>50</td>\n",
       "      <td>51%</td>\n",
       "      <td>49%</td>\n",
       "      <td>$3.27</td>\n",
       "      <td>88000</td>\n",
       "    </tr>\n",
       "    <tr>\n",
       "      <th>2872</th>\n",
       "      <td>51107</td>\n",
       "      <td>Loudoun County, Virginia</td>\n",
       "      <td>3.80</td>\n",
       "      <td>0.04</td>\n",
       "      <td>14700</td>\n",
       "      <td>130%</td>\n",
       "      <td>SNAP</td>\n",
       "      <td>185%</td>\n",
       "      <td>Other Nutrition Program</td>\n",
       "      <td>33.40%</td>\n",
       "      <td>18.70%</td>\n",
       "      <td>48.00%</td>\n",
       "      <td>3.90%</td>\n",
       "      <td>4,380</td>\n",
       "      <td>71%</td>\n",
       "      <td>29%</td>\n",
       "      <td>$3.72</td>\n",
       "      <td>9249000</td>\n",
       "    </tr>\n",
       "    <tr>\n",
       "      <th>1996</th>\n",
       "      <td>38013</td>\n",
       "      <td>Burke County, North Dakota</td>\n",
       "      <td>3.60</td>\n",
       "      <td>0.04</td>\n",
       "      <td>80</td>\n",
       "      <td>200%</td>\n",
       "      <td>SNAP, Other Nutrition Programs</td>\n",
       "      <td>200%</td>\n",
       "      <td>SNAP, Other Nutrition Programs</td>\n",
       "      <td>94.80%</td>\n",
       "      <td>NaN</td>\n",
       "      <td>5.20%</td>\n",
       "      <td>7.50%</td>\n",
       "      <td>50</td>\n",
       "      <td>83%</td>\n",
       "      <td>17%</td>\n",
       "      <td>$3.45</td>\n",
       "      <td>47000</td>\n",
       "    </tr>\n",
       "  </tbody>\n",
       "</table>\n",
       "</div>"
      ],
      "text/plain": [
       "       FIPS                  County, State  Food Insecurity Rate  \\\n",
       "2005  38031    Foster County, North Dakota                  4.60   \n",
       "2925  51610    Falls Church city, Virginia                  4.50   \n",
       "1995  38011    Bowman County, North Dakota                  4.40   \n",
       "2035  38091    Steele County, North Dakota                  4.30   \n",
       "2027  38075  Renville County, North Dakota                  4.30   \n",
       "1323  27019       Carver County, Minnesota                  4.30   \n",
       "2000  38021    Dickey County, North Dakota                  4.10   \n",
       "2030  38081   Sargent County, North Dakota                  4.10   \n",
       "2872  51107       Loudoun County, Virginia                  3.80   \n",
       "1996  38013     Burke County, North Dakota                  3.60   \n",
       "\n",
       "      2018 Food Insecurity Rate  # of Food Insecure Persons in 2018  \\\n",
       "2005                       0.05                                 150   \n",
       "2925                       0.05                                 630   \n",
       "1995                       0.04                                 140   \n",
       "2035                       0.04                                  80   \n",
       "2027                       0.04                                 110   \n",
       "1323                       0.04                                4330   \n",
       "2000                       0.04                                 200   \n",
       "2030                       0.04                                 160   \n",
       "2872                       0.04                               14700   \n",
       "1996                       0.04                                  80   \n",
       "\n",
       "     Low Threshold in state              Low Threshold Type  \\\n",
       "2005                   200%  SNAP, Other Nutrition Programs   \n",
       "2925                   130%                            SNAP   \n",
       "1995                   200%  SNAP, Other Nutrition Programs   \n",
       "2035                   200%  SNAP, Other Nutrition Programs   \n",
       "2027                   200%  SNAP, Other Nutrition Programs   \n",
       "1323                   165%                            SNAP   \n",
       "2000                   200%  SNAP, Other Nutrition Programs   \n",
       "2030                   200%  SNAP, Other Nutrition Programs   \n",
       "2872                   130%                            SNAP   \n",
       "1996                   200%  SNAP, Other Nutrition Programs   \n",
       "\n",
       "     High Threshold in state             High Threshold Type  \\\n",
       "2005                    200%  SNAP, Other Nutrition Programs   \n",
       "2925                    185%         Other Nutrition Program   \n",
       "1995                    200%  SNAP, Other Nutrition Programs   \n",
       "2035                    200%  SNAP, Other Nutrition Programs   \n",
       "2027                    200%  SNAP, Other Nutrition Programs   \n",
       "1323                    185%         Other Nutrition Program   \n",
       "2000                    200%  SNAP, Other Nutrition Programs   \n",
       "2030                    200%  SNAP, Other Nutrition Programs   \n",
       "2872                    185%         Other Nutrition Program   \n",
       "1996                    200%  SNAP, Other Nutrition Programs   \n",
       "\n",
       "     % FI ≤ Low Threshold % FI Btwn Thresholds % FI &gt; High Threshold  \\\n",
       "2005               81.90%                  NaN                   18.10%   \n",
       "2925               18.90%                8.10%                   73.10%   \n",
       "1995               55.50%                  NaN                   44.50%   \n",
       "2035               61.00%                  NaN                   39.00%   \n",
       "2027               80.30%                  NaN                   19.70%   \n",
       "1323               40.10%                4.90%                   55.00%   \n",
       "2000               82.60%                  NaN                   17.40%   \n",
       "2030               68.60%                  NaN                   31.40%   \n",
       "2872               33.40%               18.70%                   48.00%   \n",
       "1996               94.80%                  NaN                    5.20%   \n",
       "\n",
       "     2018 Child food insecurity rate # of Food Insecure Children in 2018  \\\n",
       "2005                           9.10%                                  70   \n",
       "2925                           2.40%                                  90   \n",
       "1995                           6.20%                                  50   \n",
       "2035                           9.70%                                  40   \n",
       "2027                           7.80%                                  50   \n",
       "1323                           7.00%                               1,910   \n",
       "2000                           6.20%                                  70   \n",
       "2030                           7.20%                                  50   \n",
       "2872                           3.90%                               4,380   \n",
       "1996                           7.50%                                  50   \n",
       "\n",
       "     % food insecure children in HH w/ HH incomes below 185 FPL in 2018  \\\n",
       "2005                                                92%                   \n",
       "2925                                                39%                   \n",
       "1995                                                29%                   \n",
       "2035                                                37%                   \n",
       "2027                                                73%                   \n",
       "1323                                                45%                   \n",
       "2000                                                61%                   \n",
       "2030                                                51%                   \n",
       "2872                                                71%                   \n",
       "1996                                                83%                   \n",
       "\n",
       "     % food insecure children in HH w/ HH incomes above 185 FPL in 2018  \\\n",
       "2005                                                 8%                   \n",
       "2925                                                61%                   \n",
       "1995                                                71%                   \n",
       "2035                                                64%                   \n",
       "2027                                                27%                   \n",
       "1323                                                56%                   \n",
       "2000                                                39%                   \n",
       "2030                                                49%                   \n",
       "2872                                                29%                   \n",
       "1996                                                17%                   \n",
       "\n",
       "     2018 Cost Per Meal  2018 Weighted Annual Food Budget Shortfall  \n",
       "2005             $3.23                                        82000  \n",
       "2925             $3.92                                       418000  \n",
       "1995             $3.40                                        81000  \n",
       "2035             $3.26                                        44000  \n",
       "2027             $3.28                                        61000  \n",
       "1323             $3.83                                      2804000  \n",
       "2000             $3.13                                       106000  \n",
       "2030             $3.27                                        88000  \n",
       "2872             $3.72                                      9249000  \n",
       "1996             $3.45                                        47000  "
      ]
     },
     "execution_count": 8,
     "metadata": {},
     "output_type": "execute_result"
    }
   ],
   "source": [
    "food_ins.tail(10)"
   ]
  },
  {
   "cell_type": "markdown",
   "id": "75cae966",
   "metadata": {},
   "source": [
    "We can see from the first 10 rows in our sorted data frame that the majority of counties with the highest food insecurity rates are located in Mississippi and Alabama. Similarly, we can see that the majority of counties with the lowest food insecurity rates are located in North Dakota and Virginia. \n",
    "\n",
    "From this information, I will be taking a look at crime statistics in these 4 states to see if there is a notable difference in how changes in food prices affect crime in the hungriest and not-so-hungry states."
   ]
  },
  {
   "cell_type": "markdown",
   "id": "a201b0b7",
   "metadata": {},
   "source": [
    "---"
   ]
  },
  {
   "cell_type": "markdown",
   "id": "30885d89",
   "metadata": {},
   "source": [
    "## Processing Food CPI Data"
   ]
  },
  {
   "cell_type": "code",
   "execution_count": 9,
   "id": "9cf9d767",
   "metadata": {},
   "outputs": [],
   "source": [
    "food_cpi = pd.read_csv('https://raw.githubusercontent.com/rickyzoo/Food_price_inflation_and_crime/main/fred_food_cpi.csv',\n",
    "                       index_col=0, parse_dates=True)"
   ]
  },
  {
   "cell_type": "code",
   "execution_count": 10,
   "id": "7364e8ec",
   "metadata": {},
   "outputs": [],
   "source": [
    "# list(food_cpi.columns)"
   ]
  },
  {
   "cell_type": "code",
   "execution_count": 11,
   "id": "6b0f10b8",
   "metadata": {},
   "outputs": [],
   "source": [
    "# Renaming columns with appropriate name\n",
    "\n",
    "food_cpi_columns = {'CUSR0000SAF112':'Meats_Poultry_Fish_Eggs',\n",
    " 'CUUR0000SEFJ':'Dairy_and_Related_Prod',\n",
    " 'CUSR0000SAF113':'Fruits_and_Vegetables',\n",
    " 'CUSR0000SAF111':'Cereals_and_Bakery_Prod',\n",
    " 'CUUR0000SAF114':'Nonalc_Bev_and_Bev_Materials'}\n",
    "\n",
    "food_cpi.rename(columns=food_cpi_columns, inplace=True)"
   ]
  },
  {
   "cell_type": "code",
   "execution_count": 51,
   "id": "421ebae2",
   "metadata": {},
   "outputs": [],
   "source": [
    "# food_cpi.head(3)"
   ]
  },
  {
   "cell_type": "markdown",
   "id": "30a5d61f",
   "metadata": {},
   "source": [
    "Although we have data for the `Dairy_and_Related_Prod` column dating back to 1935, data collection for all 5 food categories starts in 1989. Additionally, our crime data dates from 1985 through 2020, so we'll take relevant data from 1989-2020 for food CPI and crime."
   ]
  },
  {
   "cell_type": "code",
   "execution_count": 13,
   "id": "a8e9095d",
   "metadata": {},
   "outputs": [],
   "source": [
    "food_cpi = food_cpi.loc['1989-01-01':'2020-12-01']"
   ]
  },
  {
   "cell_type": "code",
   "execution_count": 14,
   "id": "afe38c2f",
   "metadata": {},
   "outputs": [
    {
     "data": {
      "text/html": [
       "<div>\n",
       "<style scoped>\n",
       "    .dataframe tbody tr th:only-of-type {\n",
       "        vertical-align: middle;\n",
       "    }\n",
       "\n",
       "    .dataframe tbody tr th {\n",
       "        vertical-align: top;\n",
       "    }\n",
       "\n",
       "    .dataframe thead th {\n",
       "        text-align: right;\n",
       "    }\n",
       "</style>\n",
       "<table border=\"1\" class=\"dataframe\">\n",
       "  <thead>\n",
       "    <tr style=\"text-align: right;\">\n",
       "      <th></th>\n",
       "      <th>Meats_Poultry_Fish_Eggs</th>\n",
       "      <th>Dairy_and_Related_Prod</th>\n",
       "      <th>Fruits_and_Vegetables</th>\n",
       "      <th>Cereals_and_Bakery_Prod</th>\n",
       "      <th>Nonalc_Bev_and_Bev_Materials</th>\n",
       "    </tr>\n",
       "    <tr>\n",
       "      <th>DATE</th>\n",
       "      <th></th>\n",
       "      <th></th>\n",
       "      <th></th>\n",
       "      <th></th>\n",
       "      <th></th>\n",
       "    </tr>\n",
       "  </thead>\n",
       "  <tbody>\n",
       "    <tr>\n",
       "      <th>1989-01-01</th>\n",
       "      <td>117.900</td>\n",
       "      <td>112.60</td>\n",
       "      <td>131.900</td>\n",
       "      <td>127.800</td>\n",
       "      <td>109.600</td>\n",
       "    </tr>\n",
       "    <tr>\n",
       "      <th>1989-02-01</th>\n",
       "      <td>118.400</td>\n",
       "      <td>113.40</td>\n",
       "      <td>134.500</td>\n",
       "      <td>128.800</td>\n",
       "      <td>111.300</td>\n",
       "    </tr>\n",
       "    <tr>\n",
       "      <th>1989-03-01</th>\n",
       "      <td>120.400</td>\n",
       "      <td>113.80</td>\n",
       "      <td>134.300</td>\n",
       "      <td>129.900</td>\n",
       "      <td>111.300</td>\n",
       "    </tr>\n",
       "    <tr>\n",
       "      <th>1989-04-01</th>\n",
       "      <td>120.900</td>\n",
       "      <td>114.10</td>\n",
       "      <td>135.200</td>\n",
       "      <td>130.200</td>\n",
       "      <td>111.800</td>\n",
       "    </tr>\n",
       "    <tr>\n",
       "      <th>1989-05-01</th>\n",
       "      <td>121.600</td>\n",
       "      <td>113.80</td>\n",
       "      <td>139.200</td>\n",
       "      <td>131.500</td>\n",
       "      <td>111.500</td>\n",
       "    </tr>\n",
       "    <tr>\n",
       "      <th>1989-06-01</th>\n",
       "      <td>122.100</td>\n",
       "      <td>113.60</td>\n",
       "      <td>139.200</td>\n",
       "      <td>131.900</td>\n",
       "      <td>111.600</td>\n",
       "    </tr>\n",
       "    <tr>\n",
       "      <th>1989-07-01</th>\n",
       "      <td>121.700</td>\n",
       "      <td>114.10</td>\n",
       "      <td>140.000</td>\n",
       "      <td>133.100</td>\n",
       "      <td>112.300</td>\n",
       "    </tr>\n",
       "    <tr>\n",
       "      <th>1989-08-01</th>\n",
       "      <td>121.900</td>\n",
       "      <td>114.50</td>\n",
       "      <td>141.100</td>\n",
       "      <td>133.700</td>\n",
       "      <td>111.200</td>\n",
       "    </tr>\n",
       "    <tr>\n",
       "      <th>1989-09-01</th>\n",
       "      <td>122.500</td>\n",
       "      <td>116.10</td>\n",
       "      <td>139.500</td>\n",
       "      <td>134.500</td>\n",
       "      <td>111.000</td>\n",
       "    </tr>\n",
       "    <tr>\n",
       "      <th>1989-10-01</th>\n",
       "      <td>122.200</td>\n",
       "      <td>118.20</td>\n",
       "      <td>141.200</td>\n",
       "      <td>135.200</td>\n",
       "      <td>111.800</td>\n",
       "    </tr>\n",
       "    <tr>\n",
       "      <th>1989-11-01</th>\n",
       "      <td>122.600</td>\n",
       "      <td>120.20</td>\n",
       "      <td>141.700</td>\n",
       "      <td>135.800</td>\n",
       "      <td>111.200</td>\n",
       "    </tr>\n",
       "    <tr>\n",
       "      <th>1989-12-01</th>\n",
       "      <td>123.800</td>\n",
       "      <td>122.90</td>\n",
       "      <td>139.400</td>\n",
       "      <td>136.600</td>\n",
       "      <td>111.000</td>\n",
       "    </tr>\n",
       "    <tr>\n",
       "      <th>1990-01-01</th>\n",
       "      <td>126.100</td>\n",
       "      <td>125.80</td>\n",
       "      <td>149.000</td>\n",
       "      <td>136.800</td>\n",
       "      <td>112.400</td>\n",
       "    </tr>\n",
       "  </tbody>\n",
       "</table>\n",
       "</div>"
      ],
      "text/plain": [
       "           Meats_Poultry_Fish_Eggs  Dairy_and_Related_Prod  \\\n",
       "DATE                                                         \n",
       "1989-01-01                 117.900                  112.60   \n",
       "1989-02-01                 118.400                  113.40   \n",
       "1989-03-01                 120.400                  113.80   \n",
       "1989-04-01                 120.900                  114.10   \n",
       "1989-05-01                 121.600                  113.80   \n",
       "1989-06-01                 122.100                  113.60   \n",
       "1989-07-01                 121.700                  114.10   \n",
       "1989-08-01                 121.900                  114.50   \n",
       "1989-09-01                 122.500                  116.10   \n",
       "1989-10-01                 122.200                  118.20   \n",
       "1989-11-01                 122.600                  120.20   \n",
       "1989-12-01                 123.800                  122.90   \n",
       "1990-01-01                 126.100                  125.80   \n",
       "\n",
       "           Fruits_and_Vegetables Cereals_and_Bakery_Prod  \\\n",
       "DATE                                                       \n",
       "1989-01-01               131.900                 127.800   \n",
       "1989-02-01               134.500                 128.800   \n",
       "1989-03-01               134.300                 129.900   \n",
       "1989-04-01               135.200                 130.200   \n",
       "1989-05-01               139.200                 131.500   \n",
       "1989-06-01               139.200                 131.900   \n",
       "1989-07-01               140.000                 133.100   \n",
       "1989-08-01               141.100                 133.700   \n",
       "1989-09-01               139.500                 134.500   \n",
       "1989-10-01               141.200                 135.200   \n",
       "1989-11-01               141.700                 135.800   \n",
       "1989-12-01               139.400                 136.600   \n",
       "1990-01-01               149.000                 136.800   \n",
       "\n",
       "           Nonalc_Bev_and_Bev_Materials  \n",
       "DATE                                     \n",
       "1989-01-01                      109.600  \n",
       "1989-02-01                      111.300  \n",
       "1989-03-01                      111.300  \n",
       "1989-04-01                      111.800  \n",
       "1989-05-01                      111.500  \n",
       "1989-06-01                      111.600  \n",
       "1989-07-01                      112.300  \n",
       "1989-08-01                      111.200  \n",
       "1989-09-01                      111.000  \n",
       "1989-10-01                      111.800  \n",
       "1989-11-01                      111.200  \n",
       "1989-12-01                      111.000  \n",
       "1990-01-01                      112.400  "
      ]
     },
     "execution_count": 14,
     "metadata": {},
     "output_type": "execute_result"
    }
   ],
   "source": [
    "food_cpi.head(13)"
   ]
  },
  {
   "cell_type": "markdown",
   "id": "ee989a3a",
   "metadata": {},
   "source": [
    "The way inflation is calculated based on this CPI data is as follows:\n",
    "- The data in each row according to each date in the 'DATE' index column represents the CPI values relative to one previous calendar year.\n",
    "- So if we wanted to know the inflation/deflation rate for Fruits and Vegetables from 01/01/1989 to 01/01/1990, we would calculate it as follows: `(149.0 - 131.9) / 131.9` x `100` = `12.96%`\n",
    "- Because our crime data is organized from the beginning to the end of each calendar year (January to January), we will calculate and focus on the inflation/deflation rates for each year from January to January for each food basket."
   ]
  },
  {
   "cell_type": "code",
   "execution_count": 15,
   "id": "f68d5ad2",
   "metadata": {},
   "outputs": [],
   "source": [
    "# Resetting the index so we have 'DATE' as a column so we can easily filter out data based on the month we want (Jan.)\n",
    "\n",
    "food_cpi.reset_index(inplace=True)\n",
    "\n",
    "# Filtering out data for each 'January' from 1989 - 2020\n",
    "\n",
    "food_cpi = food_cpi[food_cpi['DATE'].dt.month == 1]\n",
    "\n",
    "# Resetting the 'DATE' column as our index\n",
    "\n",
    "food_cpi.set_index('DATE', inplace=True)"
   ]
  },
  {
   "cell_type": "code",
   "execution_count": 16,
   "id": "c873bd2c",
   "metadata": {},
   "outputs": [],
   "source": [
    "# food_cpi.head(3)"
   ]
  },
  {
   "cell_type": "code",
   "execution_count": 17,
   "id": "1a0428e0",
   "metadata": {},
   "outputs": [
    {
     "data": {
      "text/plain": [
       "dtype('O')"
      ]
     },
     "execution_count": 17,
     "metadata": {},
     "output_type": "execute_result"
    }
   ],
   "source": [
    "food_cpi['Meats_Poultry_Fish_Eggs'].dtypes # We can see that the data type of the values in the columns are 'objects'"
   ]
  },
  {
   "cell_type": "code",
   "execution_count": 18,
   "id": "11f243d0",
   "metadata": {},
   "outputs": [
    {
     "data": {
      "text/plain": [
       "dtype('float64')"
      ]
     },
     "execution_count": 18,
     "metadata": {},
     "output_type": "execute_result"
    }
   ],
   "source": [
    "# We need to change the data type to a numeric datatype so we can perform calculations\n",
    "\n",
    "food_cpi = food_cpi.apply(pd.to_numeric)\n",
    "\n",
    "food_cpi['Meats_Poultry_Fish_Eggs'].dtypes"
   ]
  },
  {
   "cell_type": "code",
   "execution_count": 19,
   "id": "cad052e7",
   "metadata": {},
   "outputs": [],
   "source": [
    "# Getting the percentage change (inflation/deflation) from last year (1 year periods)\n",
    "\n",
    "ann_food_pct_change = (food_cpi - food_cpi.shift()) / food_cpi.shift() * 100\n",
    "\n",
    "# Dropping the first row of 'NaN' values\n",
    "\n",
    "ann_food_pct_change = ann_food_pct_change[1:]"
   ]
  },
  {
   "cell_type": "code",
   "execution_count": 20,
   "id": "33bc3c2b",
   "metadata": {},
   "outputs": [],
   "source": [
    "# ann_food_pct_change.head(3)"
   ]
  },
  {
   "cell_type": "code",
   "execution_count": 21,
   "id": "eb24ce9e",
   "metadata": {},
   "outputs": [
    {
     "data": {
      "image/png": "[encoded data removed]",
      "text/plain": [
       "<Figure size 432x288 with 1 Axes>"
      ]
     },
     "metadata": {
      "needs_background": "light"
     },
     "output_type": "display_data"
    }
   ],
   "source": [
    "fig, ax = plt.subplots()\n",
    "ax.plot(ann_food_pct_change, label=ann_food_pct_change.columns)\n",
    "ax.legend(bbox_to_anchor=(1.1, 1.05))\n",
    "\n",
    "plt.show()"
   ]
  },
  {
   "cell_type": "markdown",
   "id": "b994e769",
   "metadata": {},
   "source": [
    "We see that inflation for food prices across these different food baskets have been quite volatile, which is not uncommon when examining inflation numbers."
   ]
  },
  {
   "cell_type": "code",
   "execution_count": 22,
   "id": "2293a772",
   "metadata": {},
   "outputs": [],
   "source": [
    "def infl_or_defl(rate):\n",
    "    '''\n",
    "    This function is meant to take each column of our dataframe and return 'inflation'\n",
    "    if the value is positive, and 'deflation' if the value is negative\n",
    "    '''\n",
    "    if rate < 0:\n",
    "        out = 'Deflation'\n",
    "    else:\n",
    "        out = 'Inflation'\n",
    "        \n",
    "    return out"
   ]
  },
  {
   "cell_type": "code",
   "execution_count": 23,
   "id": "be06f3a1",
   "metadata": {},
   "outputs": [],
   "source": [
    "# Creating a dataframe indicating whether prices inflated or deflated from the previous year for each food basket\n",
    "\n",
    "food_infl_or_defl = ann_food_pct_change.applymap(infl_or_defl)"
   ]
  },
  {
   "cell_type": "code",
   "execution_count": 24,
   "id": "0fbe31b2",
   "metadata": {},
   "outputs": [
    {
     "data": {
      "text/html": [
       "<div>\n",
       "<style scoped>\n",
       "    .dataframe tbody tr th:only-of-type {\n",
       "        vertical-align: middle;\n",
       "    }\n",
       "\n",
       "    .dataframe tbody tr th {\n",
       "        vertical-align: top;\n",
       "    }\n",
       "\n",
       "    .dataframe thead th {\n",
       "        text-align: right;\n",
       "    }\n",
       "</style>\n",
       "<table border=\"1\" class=\"dataframe\">\n",
       "  <thead>\n",
       "    <tr style=\"text-align: right;\">\n",
       "      <th></th>\n",
       "      <th>Meats_Poultry_Fish_Eggs</th>\n",
       "      <th>Dairy_and_Related_Prod</th>\n",
       "      <th>Fruits_and_Vegetables</th>\n",
       "      <th>Cereals_and_Bakery_Prod</th>\n",
       "      <th>Nonalc_Bev_and_Bev_Materials</th>\n",
       "    </tr>\n",
       "    <tr>\n",
       "      <th>DATE</th>\n",
       "      <th></th>\n",
       "      <th></th>\n",
       "      <th></th>\n",
       "      <th></th>\n",
       "      <th></th>\n",
       "    </tr>\n",
       "  </thead>\n",
       "  <tbody>\n",
       "    <tr>\n",
       "      <th>1990-01-01</th>\n",
       "      <td>Inflation</td>\n",
       "      <td>Inflation</td>\n",
       "      <td>Inflation</td>\n",
       "      <td>Inflation</td>\n",
       "      <td>Inflation</td>\n",
       "    </tr>\n",
       "    <tr>\n",
       "      <th>1991-01-01</th>\n",
       "      <td>Inflation</td>\n",
       "      <td>Deflation</td>\n",
       "      <td>Inflation</td>\n",
       "      <td>Inflation</td>\n",
       "      <td>Inflation</td>\n",
       "    </tr>\n",
       "    <tr>\n",
       "      <th>1992-01-01</th>\n",
       "      <td>Deflation</td>\n",
       "      <td>Inflation</td>\n",
       "      <td>Deflation</td>\n",
       "      <td>Inflation</td>\n",
       "      <td>Deflation</td>\n",
       "    </tr>\n",
       "  </tbody>\n",
       "</table>\n",
       "</div>"
      ],
      "text/plain": [
       "           Meats_Poultry_Fish_Eggs Dairy_and_Related_Prod  \\\n",
       "DATE                                                        \n",
       "1990-01-01               Inflation              Inflation   \n",
       "1991-01-01               Inflation              Deflation   \n",
       "1992-01-01               Deflation              Inflation   \n",
       "\n",
       "           Fruits_and_Vegetables Cereals_and_Bakery_Prod  \\\n",
       "DATE                                                       \n",
       "1990-01-01             Inflation               Inflation   \n",
       "1991-01-01             Inflation               Inflation   \n",
       "1992-01-01             Deflation               Inflation   \n",
       "\n",
       "           Nonalc_Bev_and_Bev_Materials  \n",
       "DATE                                     \n",
       "1990-01-01                    Inflation  \n",
       "1991-01-01                    Inflation  \n",
       "1992-01-01                    Deflation  "
      ]
     },
     "execution_count": 24,
     "metadata": {},
     "output_type": "execute_result"
    }
   ],
   "source": [
    "food_infl_or_defl.head(3)"
   ]
  },
  {
   "cell_type": "markdown",
   "id": "fcd45829",
   "metadata": {},
   "source": [
    "We can see that food prices don't always experience inflation from year-to-year"
   ]
  },
  {
   "cell_type": "markdown",
   "id": "141c771a",
   "metadata": {},
   "source": [
    "---"
   ]
  },
  {
   "cell_type": "markdown",
   "id": "65dce906",
   "metadata": {},
   "source": [
    "## Processing Crime Data from the 4 States we are Focusing On"
   ]
  },
  {
   "cell_type": "code",
   "execution_count": 25,
   "id": "3032d005",
   "metadata": {},
   "outputs": [],
   "source": [
    "# Hungry states:\n",
    "miss_all_violent_crime = pd.read_csv('https://raw.githubusercontent.com/rickyzoo/Food_price_inflation_and_crime/main/miss_all_violent_crime.csv')\n",
    "miss_all_prop_crime = pd.read_csv('https://raw.githubusercontent.com/rickyzoo/Food_price_inflation_and_crime/main/miss_all_prop_crime.csv')\n",
    "alabam_all_violent_crime = pd.read_csv('https://raw.githubusercontent.com/rickyzoo/Food_price_inflation_and_crime/main/alabam_all_violent_crime.csv') \n",
    "alabam_all_prop_crime = pd.read_csv('https://raw.githubusercontent.com/rickyzoo/Food_price_inflation_and_crime/main/alabam_all_prop_crime.csv')\n",
    "\n",
    "# Not-so-hungry states:\n",
    "ndakota_all_violent_crime = pd.read_csv('https://raw.githubusercontent.com/rickyzoo/Food_price_inflation_and_crime/main/ndakota_all_violent_crime.csv')\n",
    "ndakota_all_prop_crime = pd.read_csv('https://raw.githubusercontent.com/rickyzoo/Food_price_inflation_and_crime/main/ndakota_all_prop_crime.csv')\n",
    "virg_all_violent_crime = pd.read_csv('https://raw.githubusercontent.com/rickyzoo/Food_price_inflation_and_crime/main/virg_all_violent_crime.csv')\n",
    "virg_all_prop_crime = pd.read_csv('https://raw.githubusercontent.com/rickyzoo/Food_price_inflation_and_crime/main/virg_all_prop_crime.csv')"
   ]
  },
  {
   "cell_type": "code",
   "execution_count": 26,
   "id": "f12b739b",
   "metadata": {},
   "outputs": [],
   "source": [
    "# Transposing each dataframe so it is compatible with our other datasets\n",
    "\n",
    "miss_all_violent_crime = miss_all_violent_crime.T\n",
    "miss_all_prop_crime = miss_all_prop_crime.T\n",
    "alabam_all_violent_crime = alabam_all_violent_crime.T\n",
    "alabam_all_prop_crime = alabam_all_prop_crime.T\n",
    "ndakota_all_violent_crime = ndakota_all_violent_crime.T\n",
    "ndakota_all_prop_crime = ndakota_all_prop_crime.T\n",
    "virg_all_violent_crime = virg_all_violent_crime.T\n",
    "virg_all_prop_crime = virg_all_prop_crime.T\n",
    "\n",
    "# Setting the column names with their respective indicators\n",
    "\n",
    "miss_all_violent_crime.columns = miss_all_violent_crime.iloc[0]\n",
    "miss_all_prop_crime.columns = miss_all_prop_crime.iloc[0]\n",
    "alabam_all_violent_crime.columns = alabam_all_violent_crime.iloc[0]\n",
    "alabam_all_prop_crime.columns = alabam_all_prop_crime.iloc[0]\n",
    "ndakota_all_violent_crime.columns = ndakota_all_violent_crime.iloc[0]\n",
    "ndakota_all_prop_crime.columns = ndakota_all_prop_crime.iloc[0]\n",
    "virg_all_violent_crime.columns = virg_all_violent_crime.iloc[0]\n",
    "virg_all_prop_crime.columns = virg_all_prop_crime.iloc[0]\n",
    "\n",
    "# Removing the first row\n",
    "\n",
    "miss_all_violent_crime = miss_all_violent_crime[1:]\n",
    "miss_all_prop_crime = miss_all_prop_crime[1:]\n",
    "alabam_all_violent_crime = alabam_all_violent_crime[1:]\n",
    "alabam_all_prop_crime = alabam_all_prop_crime[1:]\n",
    "ndakota_all_violent_crime = ndakota_all_violent_crime[1:]\n",
    "ndakota_all_prop_crime = ndakota_all_prop_crime[1:]\n",
    "virg_all_violent_crime = virg_all_violent_crime[1:]\n",
    "virg_all_prop_crime = virg_all_prop_crime[1:]\n",
    "\n",
    "# Giving our index column a proper column name to match the index column name of our other dataframe\n",
    "\n",
    "miss_all_violent_crime.index.names = ['DATE']\n",
    "miss_all_prop_crime.index.names = ['DATE']\n",
    "alabam_all_violent_crime.index.names = ['DATE']\n",
    "alabam_all_prop_crime.index.names = ['DATE']\n",
    "ndakota_all_violent_crime.index.names = ['DATE']\n",
    "ndakota_all_prop_crime.index.names = ['DATE']\n",
    "virg_all_violent_crime.index.names = ['DATE']\n",
    "virg_all_prop_crime.index.names = ['DATE']\n",
    "\n",
    "# Changing the index values into datetime objects\n",
    "\n",
    "miss_all_violent_crime.index = pd.to_datetime(miss_all_violent_crime.index)\n",
    "miss_all_prop_crime.index = pd.to_datetime(miss_all_prop_crime.index)\n",
    "alabam_all_violent_crime.index = pd.to_datetime(alabam_all_violent_crime.index)\n",
    "alabam_all_prop_crime.index = pd.to_datetime(alabam_all_prop_crime.index)\n",
    "ndakota_all_violent_crime.index = pd.to_datetime(ndakota_all_violent_crime.index)\n",
    "ndakota_all_prop_crime.index = pd.to_datetime(ndakota_all_prop_crime.index)\n",
    "virg_all_violent_crime.index = pd.to_datetime(virg_all_violent_crime.index)\n",
    "virg_all_prop_crime.index = pd.to_datetime(virg_all_prop_crime.index)"
   ]
  },
  {
   "cell_type": "code",
   "execution_count": 27,
   "id": "47e7fa7a",
   "metadata": {},
   "outputs": [
    {
     "data": {
      "text/plain": [
       "'series'"
      ]
     },
     "execution_count": 27,
     "metadata": {},
     "output_type": "execute_result"
    }
   ],
   "source": [
    "miss_all_violent_crime.columns.name"
   ]
  },
  {
   "cell_type": "code",
   "execution_count": 28,
   "id": "45923102",
   "metadata": {},
   "outputs": [],
   "source": [
    "# Removing the column name 'series'\n",
    "\n",
    "miss_all_violent_crime.columns.name = None\n",
    "miss_all_prop_crime.columns.name = None\n",
    "alabam_all_violent_crime.columns.name = None\n",
    "alabam_all_prop_crime.columns.name = None\n",
    "ndakota_all_violent_crime.columns.name = None\n",
    "ndakota_all_prop_crime.columns.name = None\n",
    "virg_all_violent_crime.columns.name = None\n",
    "virg_all_prop_crime.columns.name = None"
   ]
  },
  {
   "cell_type": "code",
   "execution_count": 29,
   "id": "5f4370ff",
   "metadata": {},
   "outputs": [],
   "source": [
    "# Merging all the violent crime data into one dataframe\n",
    "\n",
    "violent_crime = pd.concat([miss_all_violent_crime, alabam_all_violent_crime,\n",
    "                           ndakota_all_violent_crime, virg_all_violent_crime], axis=1)\n",
    "\n",
    "# Removing the duplicate 'United States' column\n",
    "\n",
    "violent_crime = violent_crime.loc[:, ~violent_crime.columns.duplicated()]\n",
    "\n",
    "# Merging all the property crime data into one dataframe\n",
    "\n",
    "prop_crime = pd.concat([miss_all_prop_crime, alabam_all_prop_crime,\n",
    "                       ndakota_all_prop_crime, virg_all_prop_crime], axis=1)\n",
    "\n",
    "# Removing the duplicate 'United States' column\n",
    "\n",
    "prop_crime = prop_crime.loc[:, ~prop_crime.columns.duplicated()]\n",
    "\n",
    "# Filtering for the dates we want\n",
    "\n",
    "violent_crime = violent_crime.loc['1989-01-01':]\n",
    "prop_crime = prop_crime.loc['1989-01-01':]     "
   ]
  },
  {
   "cell_type": "code",
   "execution_count": 30,
   "id": "004fd839",
   "metadata": {},
   "outputs": [],
   "source": [
    "# Calculating the year-to-year percent change in violent crime \n",
    "\n",
    "changes_in_violent_crime = (violent_crime - violent_crime.shift()) / violent_crime.shift() * 100\n",
    "changes_in_prop_crime = (prop_crime - prop_crime.shift()) / prop_crime.shift() * 100"
   ]
  },
  {
   "cell_type": "code",
   "execution_count": 31,
   "id": "9d889e30",
   "metadata": {},
   "outputs": [],
   "source": [
    "# Removing first row of 'NaN' values\n",
    "\n",
    "changes_in_violent_crime = changes_in_violent_crime[1:]\n",
    "changes_in_prop_crime = changes_in_prop_crime[1:]"
   ]
  },
  {
   "cell_type": "code",
   "execution_count": 32,
   "id": "af9d0feb",
   "metadata": {},
   "outputs": [],
   "source": [
    "# changes_in_prop_crime.head(3)"
   ]
  },
  {
   "cell_type": "code",
   "execution_count": 33,
   "id": "d463a3e2",
   "metadata": {},
   "outputs": [],
   "source": [
    "# ann_food_pct_change.head(3)"
   ]
  },
  {
   "cell_type": "code",
   "execution_count": 34,
   "id": "0e8fb23d",
   "metadata": {},
   "outputs": [],
   "source": [
    "miss_violent = changes_in_violent_crime.loc[:, ['Mississippi']]\n",
    "alabam_violent = changes_in_violent_crime.loc[:, ['Alabama']]\n",
    "ndakota_violent = changes_in_violent_crime.loc[:, ['North Dakota']]\n",
    "virg_violent = changes_in_violent_crime.loc[:, ['Virginia']]\n",
    "\n",
    "miss_prop = changes_in_prop_crime.loc[:, ['Mississippi']]\n",
    "alabam_prop = changes_in_prop_crime.loc[:, ['Alabama']]\n",
    "ndakota_prop = changes_in_prop_crime.loc[:, ['North Dakota']]\n",
    "virg_prop = changes_in_prop_crime.loc[:, ['Virginia']]"
   ]
  },
  {
   "cell_type": "markdown",
   "id": "2ae246f4",
   "metadata": {},
   "source": [
    "---"
   ]
  },
  {
   "cell_type": "markdown",
   "id": "01381c82",
   "metadata": {},
   "source": [
    "## Examining Correlation between Food Price Inflation of the different food baskets and Percent change in Crime"
   ]
  },
  {
   "cell_type": "markdown",
   "id": "1bce1ac5",
   "metadata": {},
   "source": [
    "### Violent Crime in Hungry States:"
   ]
  },
  {
   "cell_type": "code",
   "execution_count": 35,
   "id": "9f52211a",
   "metadata": {},
   "outputs": [],
   "source": [
    "# Merging data accordingly\n",
    "\n",
    "miss_violent_and_food = pd.concat([ann_food_pct_change, miss_violent], axis=1)\n",
    "alabam_violent_and_food = pd.concat([ann_food_pct_change, alabam_violent], axis=1)\n",
    "\n",
    "# Turning all data values into numeric data types so we can perform calculations\n",
    "\n",
    "miss_violent_and_food = miss_violent_and_food.apply(pd.to_numeric)\n",
    "alabam_violent_and_food = alabam_violent_and_food.apply(pd.to_numeric)"
   ]
  },
  {
   "cell_type": "code",
   "execution_count": 37,
   "id": "f5ccb07c",
   "metadata": {},
   "outputs": [
    {
     "data": {
      "text/plain": [
       "Text(0.5, 1.0, 'Inflation of Food prices Correlating with Percent Change in Violent Crime in MS')"
      ]
     },
     "execution_count": 37,
     "metadata": {},
     "output_type": "execute_result"
    },
    {
     "data": {
      "image/png": "[encoded data removed]",
      "text/plain": [
       "<Figure size 288x288 with 2 Axes>"
      ]
     },
     "metadata": {
      "needs_background": "light"
     },
     "output_type": "display_data"
    }
   ],
   "source": [
    "plt.figure(figsize=(4,4))\n",
    "\n",
    "miss_violent_heatmap = sns.heatmap(miss_violent_and_food.corr()[['Mississippi']].sort_values(by='Mississippi',\n",
    "                                                    ascending=False), vmin=-1, vmax=1, annot=True, cmap='BrBG')\n",
    "\n",
    "miss_violent_heatmap.set_title('Inflation of Food prices Correlating with Percent Change in Violent Crime in MS',\n",
    "                              fontdict={'fontsize':12}, pad=12)"
   ]
  },
  {
   "cell_type": "code",
   "execution_count": 38,
   "id": "b6c0e080",
   "metadata": {},
   "outputs": [
    {
     "data": {
      "text/plain": [
       "Text(0.5, 1.0, 'Inflation of Food prices Correlating with Percent Change in Violent Crime in AL')"
      ]
     },
     "execution_count": 38,
     "metadata": {},
     "output_type": "execute_result"
    },
    {
     "data": {
      "image/png": "[encoded data removed]",
      "text/plain": [
       "<Figure size 288x288 with 2 Axes>"
      ]
     },
     "metadata": {
      "needs_background": "light"
     },
     "output_type": "display_data"
    }
   ],
   "source": [
    "plt.figure(figsize=(4,4))\n",
    "\n",
    "alabam_violent_heatmap = sns.heatmap(alabam_violent_and_food.corr()[['Alabama']].sort_values(by='Alabama',\n",
    "                                                    ascending=False), vmin=-1, vmax=1, annot=True, cmap='BrBG')\n",
    "\n",
    "alabam_violent_heatmap.set_title('Inflation of Food prices Correlating with Percent Change in Violent Crime in AL',\n",
    "                              fontdict={'fontsize':12}, pad=12)"
   ]
  },
  {
   "cell_type": "markdown",
   "id": "84bbc467",
   "metadata": {},
   "source": [
    "### Violent Crime in Not-so-Hungry States:"
   ]
  },
  {
   "cell_type": "code",
   "execution_count": 39,
   "id": "c6b35df9",
   "metadata": {},
   "outputs": [],
   "source": [
    "ndakota_violent_and_food = pd.concat([ann_food_pct_change, ndakota_violent], axis=1)\n",
    "virg_violent_and_food = pd.concat([ann_food_pct_change, virg_violent], axis=1)\n",
    "\n",
    "ndakota_violent_and_food = ndakota_violent_and_food.apply(pd.to_numeric)\n",
    "virg_violent_and_food = virg_violent_and_food.apply(pd.to_numeric)"
   ]
  },
  {
   "cell_type": "code",
   "execution_count": 40,
   "id": "0c6c0f8c",
   "metadata": {},
   "outputs": [
    {
     "data": {
      "text/plain": [
       "Text(0.5, 1.0, 'Inflation of Food prices Correlating with Percent Change in Violent Crime in ND')"
      ]
     },
     "execution_count": 40,
     "metadata": {},
     "output_type": "execute_result"
    },
    {
     "data": {
      "image/png": "[encoded data removed]",
      "text/plain": [
       "<Figure size 288x288 with 2 Axes>"
      ]
     },
     "metadata": {
      "needs_background": "light"
     },
     "output_type": "display_data"
    }
   ],
   "source": [
    "plt.figure(figsize=(4,4))\n",
    "\n",
    "ndakota_violent_heatmap = sns.heatmap(ndakota_violent_and_food.corr()[['North Dakota']].sort_values(by='North Dakota',\n",
    "                                                    ascending=False), vmin=-1, vmax=1, annot=True, cmap='BrBG')\n",
    "\n",
    "ndakota_violent_heatmap.set_title('Inflation of Food prices Correlating with Percent Change in Violent Crime in ND',\n",
    "                              fontdict={'fontsize':12}, pad=12)"
   ]
  },
  {
   "cell_type": "code",
   "execution_count": 41,
   "id": "7655f8c4",
   "metadata": {},
   "outputs": [
    {
     "data": {
      "text/plain": [
       "Text(0.5, 1.0, 'Inflation of Food prices Correlating with Percent Change in Violent Crime in VA')"
      ]
     },
     "execution_count": 41,
     "metadata": {},
     "output_type": "execute_result"
    },
    {
     "data": {
      "image/png": "[encoded data removed]",
      "text/plain": [
       "<Figure size 288x288 with 2 Axes>"
      ]
     },
     "metadata": {
      "needs_background": "light"
     },
     "output_type": "display_data"
    }
   ],
   "source": [
    "plt.figure(figsize=(4,4))\n",
    "\n",
    "virg_violent_heatmap = sns.heatmap(virg_violent_and_food.corr()[['Virginia']].sort_values(by='Virginia',\n",
    "                                                    ascending=False), vmin=-1, vmax=1, annot=True, cmap='BrBG')\n",
    "\n",
    "virg_violent_heatmap.set_title('Inflation of Food prices Correlating with Percent Change in Violent Crime in VA',\n",
    "                              fontdict={'fontsize':12}, pad=12)"
   ]
  },
  {
   "cell_type": "markdown",
   "id": "aec17e65",
   "metadata": {},
   "source": [
    "Count of How many times each Food basket ranked in correlation to Violent crime"
   ]
  },
  {
   "cell_type": "code",
   "execution_count": 42,
   "id": "5917b597",
   "metadata": {},
   "outputs": [
    {
     "data": {
      "text/html": [
       "<div>\n",
       "<style scoped>\n",
       "    .dataframe tbody tr th:only-of-type {\n",
       "        vertical-align: middle;\n",
       "    }\n",
       "\n",
       "    .dataframe tbody tr th {\n",
       "        vertical-align: top;\n",
       "    }\n",
       "\n",
       "    .dataframe thead th {\n",
       "        text-align: right;\n",
       "    }\n",
       "</style>\n",
       "<table border=\"1\" class=\"dataframe\">\n",
       "  <thead>\n",
       "    <tr style=\"text-align: right;\">\n",
       "      <th></th>\n",
       "      <th>Meats_Poultry_Fish_Eggs</th>\n",
       "      <th>Dairy_and_Related_Prod</th>\n",
       "      <th>Fruits_and_Vegetables</th>\n",
       "      <th>Cereals_and_Bakery_Prod</th>\n",
       "      <th>Nonalc_Bev_and_Bev_Materials</th>\n",
       "    </tr>\n",
       "    <tr>\n",
       "      <th>Rank</th>\n",
       "      <th></th>\n",
       "      <th></th>\n",
       "      <th></th>\n",
       "      <th></th>\n",
       "      <th></th>\n",
       "    </tr>\n",
       "  </thead>\n",
       "  <tbody>\n",
       "    <tr>\n",
       "      <th>1</th>\n",
       "      <td>1</td>\n",
       "      <td>0</td>\n",
       "      <td>2</td>\n",
       "      <td>0</td>\n",
       "      <td>1</td>\n",
       "    </tr>\n",
       "    <tr>\n",
       "      <th>2</th>\n",
       "      <td>0</td>\n",
       "      <td>2</td>\n",
       "      <td>1</td>\n",
       "      <td>1</td>\n",
       "      <td>0</td>\n",
       "    </tr>\n",
       "    <tr>\n",
       "      <th>3</th>\n",
       "      <td>2</td>\n",
       "      <td>0</td>\n",
       "      <td>0</td>\n",
       "      <td>2</td>\n",
       "      <td>0</td>\n",
       "    </tr>\n",
       "    <tr>\n",
       "      <th>4</th>\n",
       "      <td>0</td>\n",
       "      <td>1</td>\n",
       "      <td>1</td>\n",
       "      <td>1</td>\n",
       "      <td>1</td>\n",
       "    </tr>\n",
       "    <tr>\n",
       "      <th>5</th>\n",
       "      <td>1</td>\n",
       "      <td>1</td>\n",
       "      <td>0</td>\n",
       "      <td>0</td>\n",
       "      <td>2</td>\n",
       "    </tr>\n",
       "  </tbody>\n",
       "</table>\n",
       "</div>"
      ],
      "text/plain": [
       "      Meats_Poultry_Fish_Eggs  Dairy_and_Related_Prod  Fruits_and_Vegetables  \\\n",
       "Rank                                                                           \n",
       "1                           1                       0                      2   \n",
       "2                           0                       2                      1   \n",
       "3                           2                       0                      0   \n",
       "4                           0                       1                      1   \n",
       "5                           1                       1                      0   \n",
       "\n",
       "      Cereals_and_Bakery_Prod  Nonalc_Bev_and_Bev_Materials  \n",
       "Rank                                                         \n",
       "1                           0                             1  \n",
       "2                           1                             0  \n",
       "3                           2                             0  \n",
       "4                           1                             1  \n",
       "5                           0                             2  "
      ]
     },
     "execution_count": 42,
     "metadata": {},
     "output_type": "execute_result"
    }
   ],
   "source": [
    "food_rank_violent_crime = pd.DataFrame({'Meats_Poultry_Fish_Eggs':[1,0,2,0,1],\n",
    "                                      'Dairy_and_Related_Prod':[0,2,0,1,1],\n",
    "                                      'Fruits_and_Vegetables':[2,1,0,1,0],\n",
    "                                      'Cereals_and_Bakery_Prod':[0,1,2,1,0],\n",
    "                                      'Nonalc_Bev_and_Bev_Materials':[1,0,0,1,2]}\n",
    "                                    )\n",
    "\n",
    "food_rank_violent_crime.index = np.arange(1, len(food_rank_violent_crime)+1)\n",
    "food_rank_violent_crime.index.name = 'Rank'\n",
    "\n",
    "food_rank_violent_crime"
   ]
  },
  {
   "cell_type": "markdown",
   "id": "3ad6e3e0",
   "metadata": {},
   "source": [
    "#### Analysis\n",
    "There is no clear and apparent pattern in the correlation statistics between the food price inflation of the different food baskets and percent change in violent crime across these four states. This can be attributed to a multitude of factors such as insufficient data volume and unaccounted-for variables. However, if we take a look at the dataframe above, which shows the number of times each food basket ranked at each place, Fruits and Vegetables seem to rank highest in terms of its correlation to violent crime. Keep this in mind moving forward. I also want to point out the relatively low correlation values for every food basket when looking at violent crime in North Dakota. North Dakota has some of the lowest violent crime rates and is also one of the least populated states in America. Perhaps further research can be conducted on how population size affects the dynamics between crime and food insecurity."
   ]
  },
  {
   "cell_type": "markdown",
   "id": "114132f3",
   "metadata": {},
   "source": [
    "### Property Crime in Hungry States"
   ]
  },
  {
   "cell_type": "code",
   "execution_count": 43,
   "id": "735423c1",
   "metadata": {},
   "outputs": [],
   "source": [
    "miss_prop_and_food = pd.concat([ann_food_pct_change, miss_prop], axis=1)\n",
    "alabam_prop_and_food = pd.concat([ann_food_pct_change, alabam_prop], axis=1)\n",
    "\n",
    "miss_prop_and_food = miss_prop_and_food.apply(pd.to_numeric)\n",
    "alabam_prop_and_food = alabam_prop_and_food.apply(pd.to_numeric)"
   ]
  },
  {
   "cell_type": "code",
   "execution_count": 44,
   "id": "82c52c4e",
   "metadata": {},
   "outputs": [
    {
     "data": {
      "text/plain": [
       "Text(0.5, 1.0, 'Inflation of Food prices Correlating with Percent Change in Property Crime in MS')"
      ]
     },
     "execution_count": 44,
     "metadata": {},
     "output_type": "execute_result"
    },
    {
     "data": {
      "image/png": "[encoded data removed]",
      "text/plain": [
       "<Figure size 288x288 with 2 Axes>"
      ]
     },
     "metadata": {
      "needs_background": "light"
     },
     "output_type": "display_data"
    }
   ],
   "source": [
    "plt.figure(figsize=(4,4))\n",
    "\n",
    "miss_prop_heatmap = sns.heatmap(miss_prop_and_food.corr()[['Mississippi']].sort_values(by='Mississippi',\n",
    "                                                    ascending=False), vmin=-1, vmax=1, annot=True, cmap='BrBG')\n",
    "\n",
    "miss_prop_heatmap.set_title('Inflation of Food prices Correlating with Percent Change in Property Crime in MS',\n",
    "                              fontdict={'fontsize':12}, pad=12)"
   ]
  },
  {
   "cell_type": "code",
   "execution_count": 45,
   "id": "3bdd06b5",
   "metadata": {},
   "outputs": [
    {
     "data": {
      "text/plain": [
       "Text(0.5, 1.0, 'Inflation of Food prices Correlating with Percent Change in Property Crime in AL')"
      ]
     },
     "execution_count": 45,
     "metadata": {},
     "output_type": "execute_result"
    },
    {
     "data": {
      "image/png": "[encoded data removed]",
      "text/plain": [
       "<Figure size 288x288 with 2 Axes>"
      ]
     },
     "metadata": {
      "needs_background": "light"
     },
     "output_type": "display_data"
    }
   ],
   "source": [
    "plt.figure(figsize=(4,4))\n",
    "\n",
    "alabam_prop_heatmap = sns.heatmap(alabam_prop_and_food.corr()[['Alabama']].sort_values(by='Alabama',\n",
    "                                                    ascending=False), vmin=-1, vmax=1, annot=True, cmap='BrBG')\n",
    "\n",
    "alabam_prop_heatmap.set_title('Inflation of Food prices Correlating with Percent Change in Property Crime in AL',\n",
    "                              fontdict={'fontsize':12}, pad=12)"
   ]
  },
  {
   "cell_type": "markdown",
   "id": "6e899552",
   "metadata": {},
   "source": [
    "### Property Crime in Not-so-Hungry States:"
   ]
  },
  {
   "cell_type": "code",
   "execution_count": 46,
   "id": "e4fd5ddb",
   "metadata": {},
   "outputs": [],
   "source": [
    "ndakota_prop_and_food = pd.concat([ann_food_pct_change, ndakota_prop], axis=1)\n",
    "virg_prop_and_food = pd.concat([ann_food_pct_change, virg_prop], axis=1)\n",
    "\n",
    "ndakota_prop_and_food = ndakota_prop_and_food.apply(pd.to_numeric)\n",
    "virg_prop_and_food = virg_prop_and_food.apply(pd.to_numeric)"
   ]
  },
  {
   "cell_type": "code",
   "execution_count": 47,
   "id": "5efea821",
   "metadata": {},
   "outputs": [
    {
     "data": {
      "text/plain": [
       "Text(0.5, 1.0, 'Inflation of Food prices Correlating with Percent Change in Property Crime in ND')"
      ]
     },
     "execution_count": 47,
     "metadata": {},
     "output_type": "execute_result"
    },
    {
     "data": {
      "image/png": "[encoded data removed]",
      "text/plain": [
       "<Figure size 288x288 with 2 Axes>"
      ]
     },
     "metadata": {
      "needs_background": "light"
     },
     "output_type": "display_data"
    }
   ],
   "source": [
    "plt.figure(figsize=(4,4))\n",
    "\n",
    "ndakota_prop_heatmap = sns.heatmap(ndakota_prop_and_food.corr()[['North Dakota']].sort_values(by='North Dakota',\n",
    "                                                    ascending=False), vmin=-1, vmax=1, annot=True, cmap='BrBG')\n",
    "\n",
    "ndakota_prop_heatmap.set_title('Inflation of Food prices Correlating with Percent Change in Property Crime in ND',\n",
    "                              fontdict={'fontsize':12}, pad=12)"
   ]
  },
  {
   "cell_type": "code",
   "execution_count": 48,
   "id": "3021aa3e",
   "metadata": {},
   "outputs": [
    {
     "data": {
      "text/plain": [
       "Text(0.5, 1.0, 'Inflation of Food prices Correlating with Percent Change in Property Crime in VA')"
      ]
     },
     "execution_count": 48,
     "metadata": {},
     "output_type": "execute_result"
    },
    {
     "data": {
      "image/png": "[encoded data removed]",
      "text/plain": [
       "<Figure size 288x288 with 2 Axes>"
      ]
     },
     "metadata": {
      "needs_background": "light"
     },
     "output_type": "display_data"
    }
   ],
   "source": [
    "plt.figure(figsize=(4,4))\n",
    "\n",
    "virg_prop_heatmap = sns.heatmap(virg_prop_and_food.corr()[['Virginia']].sort_values(by='Virginia',\n",
    "                                                    ascending=False), vmin=-1, vmax=1, annot=True, cmap='BrBG')\n",
    "\n",
    "virg_prop_heatmap.set_title('Inflation of Food prices Correlating with Percent Change in Property Crime in VA',\n",
    "                              fontdict={'fontsize':12}, pad=12)"
   ]
  },
  {
   "cell_type": "markdown",
   "id": "0e32416a",
   "metadata": {},
   "source": [
    "Count of How many times each Food basket ranked in correlation to Property crime"
   ]
  },
  {
   "cell_type": "code",
   "execution_count": 49,
   "id": "554e8e09",
   "metadata": {},
   "outputs": [
    {
     "data": {
      "text/html": [
       "<div>\n",
       "<style scoped>\n",
       "    .dataframe tbody tr th:only-of-type {\n",
       "        vertical-align: middle;\n",
       "    }\n",
       "\n",
       "    .dataframe tbody tr th {\n",
       "        vertical-align: top;\n",
       "    }\n",
       "\n",
       "    .dataframe thead th {\n",
       "        text-align: right;\n",
       "    }\n",
       "</style>\n",
       "<table border=\"1\" class=\"dataframe\">\n",
       "  <thead>\n",
       "    <tr style=\"text-align: right;\">\n",
       "      <th></th>\n",
       "      <th>Meats_Poultry_Fish_Eggs</th>\n",
       "      <th>Dairy_and_Related_Prod</th>\n",
       "      <th>Fruits_and_Vegetables</th>\n",
       "      <th>Cereals_and_Bakery_Prod</th>\n",
       "      <th>Nonalc_Bev_and_Bev_Materials</th>\n",
       "    </tr>\n",
       "    <tr>\n",
       "      <th>Rank</th>\n",
       "      <th></th>\n",
       "      <th></th>\n",
       "      <th></th>\n",
       "      <th></th>\n",
       "      <th></th>\n",
       "    </tr>\n",
       "  </thead>\n",
       "  <tbody>\n",
       "    <tr>\n",
       "      <th>1</th>\n",
       "      <td>0</td>\n",
       "      <td>1</td>\n",
       "      <td>1</td>\n",
       "      <td>2</td>\n",
       "      <td>0</td>\n",
       "    </tr>\n",
       "    <tr>\n",
       "      <th>2</th>\n",
       "      <td>1</td>\n",
       "      <td>0</td>\n",
       "      <td>2</td>\n",
       "      <td>1</td>\n",
       "      <td>0</td>\n",
       "    </tr>\n",
       "    <tr>\n",
       "      <th>3</th>\n",
       "      <td>3</td>\n",
       "      <td>0</td>\n",
       "      <td>1</td>\n",
       "      <td>0</td>\n",
       "      <td>0</td>\n",
       "    </tr>\n",
       "    <tr>\n",
       "      <th>4</th>\n",
       "      <td>0</td>\n",
       "      <td>3</td>\n",
       "      <td>0</td>\n",
       "      <td>0</td>\n",
       "      <td>1</td>\n",
       "    </tr>\n",
       "    <tr>\n",
       "      <th>5</th>\n",
       "      <td>0</td>\n",
       "      <td>0</td>\n",
       "      <td>0</td>\n",
       "      <td>1</td>\n",
       "      <td>3</td>\n",
       "    </tr>\n",
       "  </tbody>\n",
       "</table>\n",
       "</div>"
      ],
      "text/plain": [
       "      Meats_Poultry_Fish_Eggs  Dairy_and_Related_Prod  Fruits_and_Vegetables  \\\n",
       "Rank                                                                           \n",
       "1                           0                       1                      1   \n",
       "2                           1                       0                      2   \n",
       "3                           3                       0                      1   \n",
       "4                           0                       3                      0   \n",
       "5                           0                       0                      0   \n",
       "\n",
       "      Cereals_and_Bakery_Prod  Nonalc_Bev_and_Bev_Materials  \n",
       "Rank                                                         \n",
       "1                           2                             0  \n",
       "2                           1                             0  \n",
       "3                           0                             0  \n",
       "4                           0                             1  \n",
       "5                           1                             3  "
      ]
     },
     "execution_count": 49,
     "metadata": {},
     "output_type": "execute_result"
    }
   ],
   "source": [
    "food_rank_prop_crime = pd.DataFrame({'Meats_Poultry_Fish_Eggs':[0,1,3,0,0],\n",
    "                                      'Dairy_and_Related_Prod':[1,0,0,3,0],\n",
    "                                      'Fruits_and_Vegetables':[1,2,1,0,0],\n",
    "                                      'Cereals_and_Bakery_Prod':[2,1,0,0,1],\n",
    "                                      'Nonalc_Bev_and_Bev_Materials':[0,0,0,1,3]}\n",
    "                                    )\n",
    "\n",
    "food_rank_prop_crime.index = np.arange(1, len(food_rank_prop_crime)+1)\n",
    "food_rank_prop_crime.index.name = 'Rank'\n",
    "\n",
    "food_rank_prop_crime"
   ]
  },
  {
   "cell_type": "markdown",
   "id": "173b0856",
   "metadata": {},
   "source": [
    "#### Analysis\n",
    "Note that the correlation values are higher across all food baskets for each state when looking at percent movements in property crime compared to violent crime, indicating a stronger correlation between food price inflation and property crime compared to violent crime. This affirms my original hypothesis. \n",
    "\n",
    "Similar to the last section, we can see that Beverage related products rank near the bottom in terms of correlation while Fruits and Vegetables still rank near the top. Contrary to my hypothesis that Meat and protein related products would rank the highest, this food basket seems to consistently fall in the middle of the pack."
   ]
  },
  {
   "cell_type": "code",
   "execution_count": null,
   "id": "5bf66c23",
   "metadata": {},
   "outputs": [],
   "source": []
  },
  {
   "cell_type": "markdown",
   "id": "0d304922",
   "metadata": {},
   "source": [
    "Count of How many times each Food basket ranked in correlation to Both Types of crime"
   ]
  },
  {
   "cell_type": "code",
   "execution_count": 50,
   "id": "08d6f7d3",
   "metadata": {},
   "outputs": [
    {
     "data": {
      "text/html": [
       "<div>\n",
       "<style scoped>\n",
       "    .dataframe tbody tr th:only-of-type {\n",
       "        vertical-align: middle;\n",
       "    }\n",
       "\n",
       "    .dataframe tbody tr th {\n",
       "        vertical-align: top;\n",
       "    }\n",
       "\n",
       "    .dataframe thead th {\n",
       "        text-align: right;\n",
       "    }\n",
       "</style>\n",
       "<table border=\"1\" class=\"dataframe\">\n",
       "  <thead>\n",
       "    <tr style=\"text-align: right;\">\n",
       "      <th></th>\n",
       "      <th>Meats_Poultry_Fish_Eggs</th>\n",
       "      <th>Dairy_and_Related_Prod</th>\n",
       "      <th>Fruits_and_Vegetables</th>\n",
       "      <th>Cereals_and_Bakery_Prod</th>\n",
       "      <th>Nonalc_Bev_and_Bev_Materials</th>\n",
       "    </tr>\n",
       "    <tr>\n",
       "      <th>Rank</th>\n",
       "      <th></th>\n",
       "      <th></th>\n",
       "      <th></th>\n",
       "      <th></th>\n",
       "      <th></th>\n",
       "    </tr>\n",
       "  </thead>\n",
       "  <tbody>\n",
       "    <tr>\n",
       "      <th>1</th>\n",
       "      <td>1</td>\n",
       "      <td>1</td>\n",
       "      <td>3</td>\n",
       "      <td>2</td>\n",
       "      <td>1</td>\n",
       "    </tr>\n",
       "    <tr>\n",
       "      <th>2</th>\n",
       "      <td>1</td>\n",
       "      <td>2</td>\n",
       "      <td>3</td>\n",
       "      <td>2</td>\n",
       "      <td>0</td>\n",
       "    </tr>\n",
       "    <tr>\n",
       "      <th>3</th>\n",
       "      <td>5</td>\n",
       "      <td>0</td>\n",
       "      <td>1</td>\n",
       "      <td>2</td>\n",
       "      <td>0</td>\n",
       "    </tr>\n",
       "    <tr>\n",
       "      <th>4</th>\n",
       "      <td>0</td>\n",
       "      <td>4</td>\n",
       "      <td>1</td>\n",
       "      <td>1</td>\n",
       "      <td>2</td>\n",
       "    </tr>\n",
       "    <tr>\n",
       "      <th>5</th>\n",
       "      <td>1</td>\n",
       "      <td>1</td>\n",
       "      <td>0</td>\n",
       "      <td>1</td>\n",
       "      <td>5</td>\n",
       "    </tr>\n",
       "  </tbody>\n",
       "</table>\n",
       "</div>"
      ],
      "text/plain": [
       "      Meats_Poultry_Fish_Eggs  Dairy_and_Related_Prod  Fruits_and_Vegetables  \\\n",
       "Rank                                                                           \n",
       "1                           1                       1                      3   \n",
       "2                           1                       2                      3   \n",
       "3                           5                       0                      1   \n",
       "4                           0                       4                      1   \n",
       "5                           1                       1                      0   \n",
       "\n",
       "      Cereals_and_Bakery_Prod  Nonalc_Bev_and_Bev_Materials  \n",
       "Rank                                                         \n",
       "1                           2                             1  \n",
       "2                           2                             0  \n",
       "3                           2                             0  \n",
       "4                           1                             2  \n",
       "5                           1                             5  "
      ]
     },
     "execution_count": 50,
     "metadata": {},
     "output_type": "execute_result"
    }
   ],
   "source": [
    "food_rank_all_crime = pd.DataFrame({'Meats_Poultry_Fish_Eggs':[1,1,5,0,1],\n",
    "                                      'Dairy_and_Related_Prod':[1,2,0,4,1],\n",
    "                                      'Fruits_and_Vegetables':[3,3,1,1,0],\n",
    "                                      'Cereals_and_Bakery_Prod':[2,2,2,1,1],\n",
    "                                      'Nonalc_Bev_and_Bev_Materials':[1,0,0,2,5]}\n",
    "                                    )\n",
    "\n",
    "food_rank_all_crime.index = np.arange(1, len(food_rank_all_crime)+1)\n",
    "food_rank_all_crime.index.name = 'Rank'\n",
    "\n",
    "food_rank_all_crime"
   ]
  },
  {
   "cell_type": "markdown",
   "id": "45a093a6",
   "metadata": {},
   "source": [
    "#### Analysis\n",
    "The above dataframe sums up the two previous dataframes to give a broader look at how these different food baskets performed. As mentioned earlier, I was a bit surprised to see Fruits and Vegetables ranking so high, but, if we think about it, households and individuals facing financial hardships are subjected to purchasing and consuming cheaper foods. If you don't live under a rock and have been grocery shopping before, you'd probably know that canned foods are the best bang-for-your-buck items in terms of shelf-life and price. Unsurprisingly, the canned food items that are most commonly purchased are canned fruits and canned vegetables such as canned corn, beans, and tomatoes. This can give us possible insight into how policymakers at the local, state, and federal level can help the most vulnerable when food price inflation exceeds \"acceptable\" levels of inflation. There is no such thing as a meaningful action without direction, so if policymakers want to work towards safer communities, especially in times of economic rough patches, maybe they can provide initiatives that will control the prices of fruits and vegetable products. I am in no way claiming that making fruits and vegetable products cheaper will decrease crime, but further research should definitely be conducted to examine potential relationships between these food baskets and movements in criminal activity."
   ]
  },
  {
   "cell_type": "markdown",
   "id": "46b63ad2",
   "metadata": {},
   "source": [
    "---"
   ]
  },
  {
   "cell_type": "markdown",
   "id": "6349317e",
   "metadata": {},
   "source": [
    "## Random Forest Classification\n",
    "How well can we predict if crime will increase or decrease year-to-year based on food price inflation?\n",
    "\n",
    "#### Brief overview of Random Forest Classification\n",
    "The Random Forest Classification model is a machine learning algorithm that is used for classification tasks. It is an ensemble method, which means that it combines the predictions of multiple individual decision trees to make a final prediction. At its core, a Random Forest Classification model trains a large number of decision trees on random subsets of the data, and then has each tree make a prediction. The final prediction is made by combining the predictions of all the individual trees, using a majority vote or some other aggregation method.\n",
    "\n",
    "This approach has several advantages. First, it helps to reduce overfitting, since each tree is trained on a different subset of the data and is therefore less likely to overfit to a specific pattern in the data. Second, it increases the overall performance and accuracy of the model because the combined predictions of multiple trees are typically more accurate than the predictions of any individual tree. Random Forest Classification can be used to solve a wide range of classification tasks, such as predicting movements in customer turnout, image classification, or fraud detection. It is a versatile and powerful algorithm that is widely used in many different industries."
   ]
  },
  {
   "cell_type": "code",
   "execution_count": 52,
   "id": "f489df41",
   "metadata": {},
   "outputs": [],
   "source": [
    "def crime_up_down(rate):\n",
    "    '''\n",
    "    This function is meant to take each column of our dataframe and return 'increase'\n",
    "    if the value is positive, and 'decrease' if the value is negative\n",
    "    '''\n",
    "    if rate < 0:\n",
    "        out = 'Decrease'\n",
    "    else:\n",
    "        out = 'Increase'\n",
    "        \n",
    "    return out"
   ]
  },
  {
   "cell_type": "code",
   "execution_count": 53,
   "id": "58584b8f",
   "metadata": {},
   "outputs": [],
   "source": [
    "# Creating a dataframe indicating whether prices inflated or deflated from the previous year for each food basket\n",
    "\n",
    "violent_crime_up_down = changes_in_violent_crime.applymap(crime_up_down)\n",
    "prop_crime_up_down = changes_in_prop_crime.applymap(crime_up_down)"
   ]
  },
  {
   "cell_type": "code",
   "execution_count": 54,
   "id": "55caf68c",
   "metadata": {},
   "outputs": [],
   "source": [
    "# violent_crime_up_down.head(3)"
   ]
  },
  {
   "cell_type": "code",
   "execution_count": 55,
   "id": "d2b8c29b",
   "metadata": {},
   "outputs": [],
   "source": [
    "# Selecting data for each respective state\n",
    "\n",
    "miss_violent_up_down = violent_crime_up_down.loc[:, ['Mississippi']]\n",
    "alabam_violent_up_down = violent_crime_up_down.loc[:, ['Alabama']]\n",
    "ndakota_violent_up_down = violent_crime_up_down.loc[:, ['North Dakota']]\n",
    "virg_violent_up_down = violent_crime_up_down.loc[:, ['Virginia']]\n",
    "\n",
    "miss_prop_up_down = prop_crime_up_down.loc[:, ['Mississippi']]\n",
    "alabam_prop_up_down = prop_crime_up_down.loc[:, ['Alabama']]\n",
    "ndakota_prop_up_down = prop_crime_up_down.loc[:, ['North Dakota']]\n",
    "virg_prop_up_down = prop_crime_up_down.loc[:, ['Virginia']]"
   ]
  },
  {
   "cell_type": "markdown",
   "id": "7b93e972",
   "metadata": {},
   "source": [
    "### Violent Crime"
   ]
  },
  {
   "cell_type": "code",
   "execution_count": 56,
   "id": "070a0e2f",
   "metadata": {},
   "outputs": [
    {
     "name": "stdout",
     "output_type": "stream",
     "text": [
      "Predicting violent crime movement in hungry states:\n",
      "\n",
      "Accuracy for predicting violent crime movement in Mississippi: 0.42857142857142855\n",
      "Accuracy for predicting violent crime movement in Alabama: 0.42857142857142855\n",
      "\n",
      "Predicting violent crime movement in not-so-hungry states:\n",
      "\n",
      "Accuracy for predicting violent crime movement in North Dakota: 0.5714285714285714\n",
      "Accuracy for predicting violent crime movement in Virginia: 0.14285714285714285\n"
     ]
    }
   ],
   "source": [
    "# Creating our dataframes with indicators for violent crime and food price inflation for each state\n",
    "\n",
    "miss_violent_rf = pd.concat([ann_food_pct_change, miss_violent_up_down], axis=1)\n",
    "alabam_violent_rf = pd.concat([ann_food_pct_change, alabam_violent_up_down], axis=1)\n",
    "ndakota_violent_rf = pd.concat([ann_food_pct_change, ndakota_violent_up_down], axis=1)\n",
    "virg_violent_rf = pd.concat([ann_food_pct_change, virg_violent_up_down], axis=1)\n",
    "\n",
    "print('Predicting violent crime movement in hungry states:')\n",
    "print()\n",
    "\n",
    "# Mississippi\n",
    "X1 = miss_violent_rf[['Meats_Poultry_Fish_Eggs', 'Dairy_and_Related_Prod', 'Fruits_and_Vegetables',\n",
    "                     'Cereals_and_Bakery_Prod', 'Nonalc_Bev_and_Bev_Materials']]\n",
    "y1 = miss_violent_rf['Mississippi']\n",
    "X1_train, X1_test, y1_train, y1_test = train_test_split(X1, y1, test_size=0.2, random_state=42)\n",
    "clf1 = RandomForestClassifier(n_estimators=100,\n",
    "                             criterion='entropy',\n",
    "                             bootstrap=False,\n",
    "                             oob_score=False,\n",
    "                             warm_start=True,\n",
    "                             random_state=42)\n",
    "clf1.fit(X1_train, y1_train)\n",
    "y1_pred = clf1.predict(X1_test)\n",
    "print(f'Accuracy for predicting violent crime movement in Mississippi: {accuracy_score(y1_test, y1_pred)}')\n",
    "\n",
    "# Alabama\n",
    "X2 = alabam_violent_rf[['Meats_Poultry_Fish_Eggs', 'Dairy_and_Related_Prod', 'Fruits_and_Vegetables',\n",
    "                     'Cereals_and_Bakery_Prod', 'Nonalc_Bev_and_Bev_Materials']]\n",
    "y2 = alabam_violent_rf['Alabama']\n",
    "X2_train, X2_test, y2_train, y2_test = train_test_split(X2, y2, test_size=0.2, random_state=42)\n",
    "clf2 = RandomForestClassifier(n_estimators=100,\n",
    "                             criterion='entropy',\n",
    "                             bootstrap=False,\n",
    "                             oob_score=False,\n",
    "                             warm_start=True,\n",
    "                             random_state=42)\n",
    "clf2.fit(X2_train, y2_train)\n",
    "y2_pred = clf2.predict(X2_test)\n",
    "print(f'Accuracy for predicting violent crime movement in Alabama: {accuracy_score(y2_test, y2_pred)}')\n",
    "\n",
    "print()\n",
    "print('Predicting violent crime movement in not-so-hungry states:')\n",
    "print()\n",
    "\n",
    "# North Dakota\n",
    "X3 = ndakota_violent_rf[['Meats_Poultry_Fish_Eggs', 'Dairy_and_Related_Prod', 'Fruits_and_Vegetables',\n",
    "                     'Cereals_and_Bakery_Prod', 'Nonalc_Bev_and_Bev_Materials']]\n",
    "y3 = ndakota_violent_rf['North Dakota']\n",
    "X3_train, X3_test, y3_train, y3_test = train_test_split(X3, y3, test_size=0.2, random_state=42)\n",
    "clf3 = RandomForestClassifier(n_estimators=100,\n",
    "                             criterion='entropy',\n",
    "                             bootstrap=False,\n",
    "                             oob_score=False,\n",
    "                             warm_start=True,\n",
    "                             random_state=42)\n",
    "clf3.fit(X3_train, y3_train)\n",
    "y3_pred = clf3.predict(X3_test)\n",
    "print(f'Accuracy for predicting violent crime movement in North Dakota: {accuracy_score(y3_test, y3_pred)}')\n",
    "\n",
    "# Virginia\n",
    "X4 = virg_violent_rf[['Meats_Poultry_Fish_Eggs', 'Dairy_and_Related_Prod', 'Fruits_and_Vegetables',\n",
    "                     'Cereals_and_Bakery_Prod', 'Nonalc_Bev_and_Bev_Materials']]\n",
    "y4 = virg_violent_rf['Virginia']\n",
    "X4_train, X4_test, y4_train, y4_test = train_test_split(X4, y4, test_size=0.2, random_state=42)\n",
    "clf4 = RandomForestClassifier(n_estimators=100,\n",
    "                             criterion='entropy',\n",
    "                             bootstrap=False,\n",
    "                             oob_score=False,\n",
    "                             warm_start=True,\n",
    "                             random_state=42)\n",
    "clf4.fit(X4_train, y4_train)\n",
    "y4_pred = clf4.predict(X4_test)\n",
    "print(f'Accuracy for predicting violent crime movement in Virginia: {accuracy_score(y4_test, y4_pred)}')"
   ]
  },
  {
   "cell_type": "markdown",
   "id": "223645da",
   "metadata": {},
   "source": [
    "### Property Crime"
   ]
  },
  {
   "cell_type": "code",
   "execution_count": 57,
   "id": "5889f966",
   "metadata": {},
   "outputs": [
    {
     "name": "stdout",
     "output_type": "stream",
     "text": [
      "Predicting property crime movement in hungry states:\n",
      "\n",
      "Accuracy for predicting property crime movement in Mississippi: 0.7142857142857143\n",
      "Accuracy for predicting property crime movement in Alabama: 0.2857142857142857\n",
      "\n",
      "Predicting property crime movement in not-so-hungry states:\n",
      "\n",
      "Accuracy for predicting property crime movement in North Dakota: 0.5714285714285714\n",
      "Accuracy for predicting property crime movement in Virginia: 1.0\n"
     ]
    }
   ],
   "source": [
    "# Creating our dataframes with indicators for property crime and food price inflation for each state\n",
    "\n",
    "miss_prop_rf = pd.concat([ann_food_pct_change, miss_prop_up_down], axis=1)\n",
    "alabam_prop_rf = pd.concat([ann_food_pct_change, alabam_prop_up_down], axis=1)\n",
    "ndakota_prop_rf = pd.concat([ann_food_pct_change, ndakota_prop_up_down], axis=1)\n",
    "virg_prop_rf = pd.concat([ann_food_pct_change, virg_prop_up_down], axis=1)\n",
    "\n",
    "print('Predicting property crime movement in hungry states:')\n",
    "print()\n",
    "\n",
    "# Mississippi\n",
    "X5 = miss_prop_rf[['Meats_Poultry_Fish_Eggs', 'Dairy_and_Related_Prod', 'Fruits_and_Vegetables',\n",
    "                     'Cereals_and_Bakery_Prod', 'Nonalc_Bev_and_Bev_Materials']]\n",
    "y5 = miss_prop_rf['Mississippi']\n",
    "X5_train, X5_test, y5_train, y5_test = train_test_split(X5, y5, test_size=0.2, random_state=42)\n",
    "clf5 = RandomForestClassifier(n_estimators=100,\n",
    "                             criterion='entropy',\n",
    "                             bootstrap=False,\n",
    "                             oob_score=False,\n",
    "                             warm_start=True,\n",
    "                             random_state=42)\n",
    "clf5.fit(X5_train, y5_train)\n",
    "y5_pred = clf5.predict(X5_test)\n",
    "print(f'Accuracy for predicting property crime movement in Mississippi: {accuracy_score(y5_test, y5_pred)}')\n",
    "\n",
    "# Alabama\n",
    "X6 = alabam_prop_rf[['Meats_Poultry_Fish_Eggs', 'Dairy_and_Related_Prod', 'Fruits_and_Vegetables',\n",
    "                     'Cereals_and_Bakery_Prod', 'Nonalc_Bev_and_Bev_Materials']]\n",
    "y6 = alabam_prop_rf['Alabama']\n",
    "X6_train, X6_test, y6_train, y6_test = train_test_split(X6, y6, test_size=0.2, random_state=42)\n",
    "clf6 = RandomForestClassifier(n_estimators=100,\n",
    "                             criterion='entropy',\n",
    "                             bootstrap=False,\n",
    "                             oob_score=False,\n",
    "                             warm_start=True,\n",
    "                             random_state=42)\n",
    "clf6.fit(X6_train, y6_train)\n",
    "y6_pred = clf6.predict(X6_test)\n",
    "print(f'Accuracy for predicting property crime movement in Alabama: {accuracy_score(y6_test, y6_pred)}')\n",
    "\n",
    "print()\n",
    "print('Predicting property crime movement in not-so-hungry states:')\n",
    "print()\n",
    "\n",
    "# North Dakota\n",
    "X7 = ndakota_prop_rf[['Meats_Poultry_Fish_Eggs', 'Dairy_and_Related_Prod', 'Fruits_and_Vegetables',\n",
    "                     'Cereals_and_Bakery_Prod', 'Nonalc_Bev_and_Bev_Materials']]\n",
    "y7 = ndakota_prop_rf['North Dakota']\n",
    "X7_train, X7_test, y7_train, y7_test = train_test_split(X7, y7, test_size=0.2, random_state=42)\n",
    "clf7 = RandomForestClassifier(n_estimators=100,\n",
    "                             criterion='entropy',\n",
    "                             bootstrap=False,\n",
    "                             oob_score=False,\n",
    "                             warm_start=True,\n",
    "                             random_state=42)\n",
    "clf7.fit(X7_train, y7_train)\n",
    "y7_pred = clf7.predict(X7_test)\n",
    "print(f'Accuracy for predicting property crime movement in North Dakota: {accuracy_score(y7_test, y7_pred)}')\n",
    "\n",
    "# Virginia\n",
    "X8 = virg_prop_rf[['Meats_Poultry_Fish_Eggs', 'Dairy_and_Related_Prod', 'Fruits_and_Vegetables',\n",
    "                     'Cereals_and_Bakery_Prod', 'Nonalc_Bev_and_Bev_Materials']]\n",
    "y8 = virg_prop_rf['Virginia']\n",
    "X8_train, X8_test, y8_train, y8_test = train_test_split(X8, y8, test_size=0.2, random_state=42)\n",
    "clf8 = RandomForestClassifier(n_estimators=100,\n",
    "                             criterion='entropy',\n",
    "                             bootstrap=False,\n",
    "                             oob_score=False,\n",
    "                             warm_start=True,\n",
    "                             random_state=42)\n",
    "clf8.fit(X8_train, y8_train)\n",
    "y8_pred = clf8.predict(X8_test)\n",
    "print(f'Accuracy for predicting property crime movement in Virginia: {accuracy_score(y8_test, y8_pred)}')"
   ]
  },
  {
   "cell_type": "markdown",
   "id": "a077a114",
   "metadata": {},
   "source": [
    "### Crime in the United States as a whole"
   ]
  },
  {
   "cell_type": "code",
   "execution_count": 58,
   "id": "854616b6",
   "metadata": {},
   "outputs": [
    {
     "name": "stdout",
     "output_type": "stream",
     "text": [
      "Predicting violent crime movement in the US:\n",
      "Accuracy for predicting violent crime movement in the US: 0.7142857142857143\n",
      "\n",
      "Predicting property crime movement in the US:\n",
      "Accuracy for predicting property crime movement in the US: 1.0\n"
     ]
    }
   ],
   "source": [
    "USA_violent_up_down = violent_crime_up_down.loc[:, ['United States']]\n",
    "USA_prop_up_down = prop_crime_up_down.loc[:, ['United States']]\n",
    "\n",
    "USA_violent_rf = pd.concat([ann_food_pct_change, USA_violent_up_down], axis=1)\n",
    "USA_prop_rf = pd.concat([ann_food_pct_change, USA_prop_up_down], axis=1)\n",
    "\n",
    "# Violent crime\n",
    "\n",
    "print('Predicting violent crime movement in the US:')\n",
    "\n",
    "X9 = USA_violent_rf[['Meats_Poultry_Fish_Eggs', 'Dairy_and_Related_Prod', 'Fruits_and_Vegetables',\n",
    "                     'Cereals_and_Bakery_Prod', 'Nonalc_Bev_and_Bev_Materials']]\n",
    "y9 = USA_violent_rf['United States']\n",
    "X9_train, X9_test, y9_train, y9_test = train_test_split(X9, y9, test_size=0.2, random_state=42)\n",
    "clf9 = RandomForestClassifier(n_estimators=100,\n",
    "                             criterion='entropy',\n",
    "                             bootstrap=False,\n",
    "                             oob_score=False,\n",
    "                             warm_start=True,\n",
    "                             random_state=42)\n",
    "clf9.fit(X9_train, y9_train)\n",
    "y9_pred = clf9.predict(X9_test)\n",
    "print(f'Accuracy for predicting violent crime movement in the US: {accuracy_score(y9_test, y9_pred)}')\n",
    "\n",
    "# Property crime\n",
    "\n",
    "print()\n",
    "print('Predicting property crime movement in the US:')\n",
    "\n",
    "X10 = USA_prop_rf[['Meats_Poultry_Fish_Eggs', 'Dairy_and_Related_Prod', 'Fruits_and_Vegetables',\n",
    "                     'Cereals_and_Bakery_Prod', 'Nonalc_Bev_and_Bev_Materials']]\n",
    "y10 = USA_prop_rf['United States']\n",
    "X10_train, X10_test, y10_train, y10_test = train_test_split(X10, y10, test_size=0.2, random_state=42)\n",
    "clf10 = RandomForestClassifier(n_estimators=100,\n",
    "                             criterion='entropy',\n",
    "                             bootstrap=False,\n",
    "                             oob_score=False,\n",
    "                             warm_start=True,\n",
    "                             random_state=42)\n",
    "clf10.fit(X10_train, y10_train)\n",
    "y10_pred = clf10.predict(X10_test)\n",
    "print(f'Accuracy for predicting property crime movement in the US: {accuracy_score(y10_test, y10_pred)}')"
   ]
  },
  {
   "cell_type": "markdown",
   "id": "c4f2a326",
   "metadata": {},
   "source": [
    "#### Analysis\n",
    "There doesn't seem to be any significant statistical patterns in the accuracy scores of our test runs. The volume of data is a bit small relative to what a Random Forest model can handle. However, we can see that with the exception of predicting the movement of crime in Alabama, accuracy scores are higher or remain constant when predicting movement in property crime compared to violent. This builds off my previous analysis and hypothesis that food price inflation affects property crime more so than violent crime. We also see an accuracy score of 100\\% when predicting the movement of property crime in Virginia and in the United States as a whole. I do not think this is statistically significant however, due to the small sample size of testing data fed into the models. \n",
    "\n",
    "Additionally, there is no clear evidence that shows that the movement of crime is significantly different between food insecure and food secure states. Although the levels of crime may be different, the movement of crime in relation to food price inflation seem to be constant."
   ]
  },
  {
   "cell_type": "markdown",
   "id": "fc644ac4",
   "metadata": {},
   "source": [
    "---"
   ]
  },
  {
   "cell_type": "markdown",
   "id": "82169225",
   "metadata": {},
   "source": [
    "## Conclusion\n",
    "If a healthier, safer and more inclusive society is in everyone's best interest (like it should be), then conducting more research surrounding the specifics of how food prices and access to quality food affects individuals, households, and communities is an essential part of finding optimal solutions. In this research project, I attempted to find meaningful connections between food price inflation of different food baskets and its impact on violent and property crime in food insecure and food secure states. To reiterate, there are many limitations with this analysis due to the volume of data, or lack thereof, and the neglection of other related variables. However, we were still able to see a pattern in terms of which food basket seems to correlate the most with the percent changes in criminal activity, along with which type of crime seems to correlate more with food price inflation. I hope this can be a part of something much greater and can help others seeking to tackle food insecurity and community safety issues. "
   ]
  },
  {
   "cell_type": "markdown",
   "id": "d25bfac4",
   "metadata": {},
   "source": [
    "---"
   ]
  },
  {
   "cell_type": "markdown",
   "id": "5aa952cd",
   "metadata": {},
   "source": [
    "## References\n",
    "#### Data:\n",
    "- https://ourworldindata.org/food-prices\n",
    "- https://www.socialpolicylab.org/post/grow-your-blog-community\n",
    "- https://fred.stlouisfed.org/series/CUSR0000SAF112\n",
    "- https://fred.stlouisfed.org/series/CUSR0000SEFJ\n",
    "- https://fred.stlouisfed.org/series/CUSR0000SAF113\n",
    "- https://fred.stlouisfed.org/series/CUSR0000SAF111\n",
    "- https://fred.stlouisfed.org/series/CUSR0000SAF114\n",
    "- All crime data was taken from the following link. You are able to tune the parameters to find what you want:\n",
    "https://cde.ucr.cjis.gov/LATEST/webapp/#/pages/home\n",
    "\n",
    "**Note:** The link provided below is the link to the Github repository I created to pubicly host all the CSV files I used from the links provided directly above. Please visit that repository if you want access to the full data files I used throughout my project.\n",
    "- https://github.com/rickyzoo/Food_price_inflation_and_crime\n",
    "\n",
    "#### Referenced research:\n",
    "- https://www.ers.usda.gov/topics/food-nutrition-assistance/food-security-in-the-u-s/measurement/\n",
    "- https://ir.library.illinoisstate.edu/cgi/viewcontent.cgi?article=1019&context=scced\n",
    "\n",
    "#### Code assistance:\n",
    "- Seaborn example code: https://medium.com/@szabo.bibor/how-to-create-a-seaborn-correlation-heatmap-in-python-834c0686b88e\n",
    "- Random Forest Classifier example: https://www.datacamp.com/tutorial/random-forests-classifier-python"
   ]
  },
  {
   "cell_type": "code",
   "execution_count": null,
   "id": "a6736bc0",
   "metadata": {},
   "outputs": [],
   "source": []
  }
 ],
 "metadata": {
  "kernelspec": {
   "display_name": "Python 3 (ipykernel)",
   "language": "python",
   "name": "python3"
  },
  "language_info": {
   "codemirror_mode": {
    "name": "ipython",
    "version": 3
   },
   "file_extension": ".py",
   "mimetype": "text/x-python",
   "name": "python",
   "nbconvert_exporter": "python",
   "pygments_lexer": "ipython3",
   "version": "3.9.12"
  }
 },
 "nbformat": 4,
 "nbformat_minor": 5
}
